{
 "cells": [
  {
   "cell_type": "markdown",
   "metadata": {},
   "source": [
    "# Load Libraries and Dataset"
   ]
  },
  {
   "cell_type": "code",
   "execution_count": 43,
   "metadata": {},
   "outputs": [
    {
     "name": "stdout",
     "output_type": "stream",
     "text": [
      "Total number of instances : 45211\n"
     ]
    },
    {
     "data": {
      "text/html": [
       "<div>\n",
       "<style scoped>\n",
       "    .dataframe tbody tr th:only-of-type {\n",
       "        vertical-align: middle;\n",
       "    }\n",
       "\n",
       "    .dataframe tbody tr th {\n",
       "        vertical-align: top;\n",
       "    }\n",
       "\n",
       "    .dataframe thead th {\n",
       "        text-align: right;\n",
       "    }\n",
       "</style>\n",
       "<table border=\"1\" class=\"dataframe\">\n",
       "  <thead>\n",
       "    <tr style=\"text-align: right;\">\n",
       "      <th></th>\n",
       "      <th>age</th>\n",
       "      <th>job</th>\n",
       "      <th>marital</th>\n",
       "      <th>education</th>\n",
       "      <th>default</th>\n",
       "      <th>balance</th>\n",
       "      <th>housing</th>\n",
       "      <th>loan</th>\n",
       "      <th>contact</th>\n",
       "      <th>day</th>\n",
       "      <th>month</th>\n",
       "      <th>duration</th>\n",
       "      <th>campaign</th>\n",
       "      <th>pdays</th>\n",
       "      <th>previous</th>\n",
       "      <th>poutcome</th>\n",
       "      <th>y</th>\n",
       "    </tr>\n",
       "  </thead>\n",
       "  <tbody>\n",
       "    <tr>\n",
       "      <th>0</th>\n",
       "      <td>58</td>\n",
       "      <td>management</td>\n",
       "      <td>married</td>\n",
       "      <td>tertiary</td>\n",
       "      <td>no</td>\n",
       "      <td>2143</td>\n",
       "      <td>yes</td>\n",
       "      <td>no</td>\n",
       "      <td>unknown</td>\n",
       "      <td>5</td>\n",
       "      <td>may</td>\n",
       "      <td>261</td>\n",
       "      <td>1</td>\n",
       "      <td>-1</td>\n",
       "      <td>0</td>\n",
       "      <td>unknown</td>\n",
       "      <td>no</td>\n",
       "    </tr>\n",
       "    <tr>\n",
       "      <th>1</th>\n",
       "      <td>44</td>\n",
       "      <td>technician</td>\n",
       "      <td>single</td>\n",
       "      <td>secondary</td>\n",
       "      <td>no</td>\n",
       "      <td>29</td>\n",
       "      <td>yes</td>\n",
       "      <td>no</td>\n",
       "      <td>unknown</td>\n",
       "      <td>5</td>\n",
       "      <td>may</td>\n",
       "      <td>151</td>\n",
       "      <td>1</td>\n",
       "      <td>-1</td>\n",
       "      <td>0</td>\n",
       "      <td>unknown</td>\n",
       "      <td>no</td>\n",
       "    </tr>\n",
       "    <tr>\n",
       "      <th>2</th>\n",
       "      <td>33</td>\n",
       "      <td>entrepreneur</td>\n",
       "      <td>married</td>\n",
       "      <td>secondary</td>\n",
       "      <td>no</td>\n",
       "      <td>2</td>\n",
       "      <td>yes</td>\n",
       "      <td>yes</td>\n",
       "      <td>unknown</td>\n",
       "      <td>5</td>\n",
       "      <td>may</td>\n",
       "      <td>76</td>\n",
       "      <td>1</td>\n",
       "      <td>-1</td>\n",
       "      <td>0</td>\n",
       "      <td>unknown</td>\n",
       "      <td>no</td>\n",
       "    </tr>\n",
       "    <tr>\n",
       "      <th>3</th>\n",
       "      <td>47</td>\n",
       "      <td>blue-collar</td>\n",
       "      <td>married</td>\n",
       "      <td>unknown</td>\n",
       "      <td>no</td>\n",
       "      <td>1506</td>\n",
       "      <td>yes</td>\n",
       "      <td>no</td>\n",
       "      <td>unknown</td>\n",
       "      <td>5</td>\n",
       "      <td>may</td>\n",
       "      <td>92</td>\n",
       "      <td>1</td>\n",
       "      <td>-1</td>\n",
       "      <td>0</td>\n",
       "      <td>unknown</td>\n",
       "      <td>no</td>\n",
       "    </tr>\n",
       "    <tr>\n",
       "      <th>4</th>\n",
       "      <td>33</td>\n",
       "      <td>unknown</td>\n",
       "      <td>single</td>\n",
       "      <td>unknown</td>\n",
       "      <td>no</td>\n",
       "      <td>1</td>\n",
       "      <td>no</td>\n",
       "      <td>no</td>\n",
       "      <td>unknown</td>\n",
       "      <td>5</td>\n",
       "      <td>may</td>\n",
       "      <td>198</td>\n",
       "      <td>1</td>\n",
       "      <td>-1</td>\n",
       "      <td>0</td>\n",
       "      <td>unknown</td>\n",
       "      <td>no</td>\n",
       "    </tr>\n",
       "  </tbody>\n",
       "</table>\n",
       "</div>"
      ],
      "text/plain": [
       "   age           job  marital  education default  balance housing loan  \\\n",
       "0   58    management  married   tertiary      no     2143     yes   no   \n",
       "1   44    technician   single  secondary      no       29     yes   no   \n",
       "2   33  entrepreneur  married  secondary      no        2     yes  yes   \n",
       "3   47   blue-collar  married    unknown      no     1506     yes   no   \n",
       "4   33       unknown   single    unknown      no        1      no   no   \n",
       "\n",
       "   contact  day month  duration  campaign  pdays  previous poutcome   y  \n",
       "0  unknown    5   may       261         1     -1         0  unknown  no  \n",
       "1  unknown    5   may       151         1     -1         0  unknown  no  \n",
       "2  unknown    5   may        76         1     -1         0  unknown  no  \n",
       "3  unknown    5   may        92         1     -1         0  unknown  no  \n",
       "4  unknown    5   may       198         1     -1         0  unknown  no  "
      ]
     },
     "execution_count": 43,
     "metadata": {},
     "output_type": "execute_result"
    }
   ],
   "source": [
    "import pandas as pd\n",
    "import numpy as np\n",
    "from matplotlib import pyplot as plt\n",
    "from collections import defaultdict\n",
    "\n",
    "df = pd.read_csv('bank-full.csv', delimiter=';')\n",
    "\n",
    "print(f\"Total number of instances : {len(df)}\")\n",
    "\n",
    "for i in df.columns :\n",
    "    num_nan = df[i].isnull().sum()\n",
    "    if num_nan > 0:\n",
    "        print(f\"{i} column has {num_nan} NaN values\")\n",
    "\n",
    "df.head()"
   ]
  },
  {
   "cell_type": "markdown",
   "metadata": {},
   "source": [
    "# Dataset Description"
   ]
  },
  {
   "cell_type": "code",
   "execution_count": 44,
   "metadata": {},
   "outputs": [
    {
     "data": {
      "image/png": "[encoded data removed]",
      "text/plain": [
       "<Figure size 432x288 with 1 Axes>"
      ]
     },
     "metadata": {
      "needs_background": "light"
     },
     "output_type": "display_data"
    },
    {
     "name": "stdout",
     "output_type": "stream",
     "text": [
      "Class Labels : ['yes', 'no']\n",
      "No. of Inst. : [5289, 39922]\n",
      "\n",
      "Total number of features : 16\n"
     ]
    }
   ],
   "source": [
    "y = list(df['y'])\n",
    "instances_per_class = {'yes' : y.count('yes'), 'no' : y.count('no')}\n",
    "\n",
    "plt.bar([0, 1], instances_per_class.values(), color='green')\n",
    "plt.xlabel('Class')\n",
    "plt.ylabel('No. of Instances')\n",
    "plt.title('Class Imbalance Check')\n",
    "plt.xticks([0, 1], ['Subscribed', 'Not Subscribed'])\n",
    "plt.show()\n",
    "\n",
    "print(f\"Class Labels : {list(instances_per_class.keys())}\\nNo. of Inst. : {list(instances_per_class.values())}\\n\\nTotal number of features : {len(df.columns)-1}\")"
   ]
  },
  {
   "cell_type": "code",
   "execution_count": 45,
   "metadata": {},
   "outputs": [
    {
     "data": {
      "text/plain": [
       "{'age': 77,\n",
       " 'job': 12,\n",
       " 'marital': 3,\n",
       " 'education': 4,\n",
       " 'default': 2,\n",
       " 'balance': 7168,\n",
       " 'housing': 2,\n",
       " 'loan': 2,\n",
       " 'contact': 3,\n",
       " 'day': 31,\n",
       " 'month': 12,\n",
       " 'duration': 1573,\n",
       " 'campaign': 48,\n",
       " 'pdays': 559,\n",
       " 'previous': 41,\n",
       " 'poutcome': 4}"
      ]
     },
     "execution_count": 45,
     "metadata": {},
     "output_type": "execute_result"
    }
   ],
   "source": [
    "y = df['y']\n",
    "X = df.drop('y', axis=1)\n",
    "\n",
    "unique_val_count = {}\n",
    "\n",
    "for col in X.columns:\n",
    "    unique_values = np.unique(X[col])\n",
    "    unique_val_count[col] = len(unique_values)\n",
    "\n",
    "unique_val_count"
   ]
  },
  {
   "cell_type": "markdown",
   "metadata": {},
   "source": [
    "# Categorical to Numerical"
   ]
  },
  {
   "cell_type": "code",
   "execution_count": 46,
   "metadata": {},
   "outputs": [
    {
     "name": "stdout",
     "output_type": "stream",
     "text": [
      "Number of Categorical columns : 10\n"
     ]
    },
    {
     "data": {
      "text/html": [
       "<div>\n",
       "<style scoped>\n",
       "    .dataframe tbody tr th:only-of-type {\n",
       "        vertical-align: middle;\n",
       "    }\n",
       "\n",
       "    .dataframe tbody tr th {\n",
       "        vertical-align: top;\n",
       "    }\n",
       "\n",
       "    .dataframe thead th {\n",
       "        text-align: right;\n",
       "    }\n",
       "</style>\n",
       "<table border=\"1\" class=\"dataframe\">\n",
       "  <thead>\n",
       "    <tr style=\"text-align: right;\">\n",
       "      <th></th>\n",
       "      <th>age</th>\n",
       "      <th>job</th>\n",
       "      <th>marital</th>\n",
       "      <th>education</th>\n",
       "      <th>default</th>\n",
       "      <th>balance</th>\n",
       "      <th>housing</th>\n",
       "      <th>loan</th>\n",
       "      <th>contact</th>\n",
       "      <th>day</th>\n",
       "      <th>month</th>\n",
       "      <th>duration</th>\n",
       "      <th>campaign</th>\n",
       "      <th>pdays</th>\n",
       "      <th>previous</th>\n",
       "      <th>poutcome</th>\n",
       "    </tr>\n",
       "  </thead>\n",
       "  <tbody>\n",
       "    <tr>\n",
       "      <th>0</th>\n",
       "      <td>58</td>\n",
       "      <td>0</td>\n",
       "      <td>0</td>\n",
       "      <td>0</td>\n",
       "      <td>0</td>\n",
       "      <td>2143</td>\n",
       "      <td>0</td>\n",
       "      <td>0</td>\n",
       "      <td>0</td>\n",
       "      <td>0</td>\n",
       "      <td>0</td>\n",
       "      <td>261</td>\n",
       "      <td>1</td>\n",
       "      <td>-1</td>\n",
       "      <td>0</td>\n",
       "      <td>0</td>\n",
       "    </tr>\n",
       "    <tr>\n",
       "      <th>1</th>\n",
       "      <td>44</td>\n",
       "      <td>1</td>\n",
       "      <td>1</td>\n",
       "      <td>1</td>\n",
       "      <td>0</td>\n",
       "      <td>29</td>\n",
       "      <td>0</td>\n",
       "      <td>0</td>\n",
       "      <td>0</td>\n",
       "      <td>0</td>\n",
       "      <td>0</td>\n",
       "      <td>151</td>\n",
       "      <td>1</td>\n",
       "      <td>-1</td>\n",
       "      <td>0</td>\n",
       "      <td>0</td>\n",
       "    </tr>\n",
       "    <tr>\n",
       "      <th>2</th>\n",
       "      <td>33</td>\n",
       "      <td>2</td>\n",
       "      <td>0</td>\n",
       "      <td>1</td>\n",
       "      <td>0</td>\n",
       "      <td>2</td>\n",
       "      <td>0</td>\n",
       "      <td>1</td>\n",
       "      <td>0</td>\n",
       "      <td>0</td>\n",
       "      <td>0</td>\n",
       "      <td>76</td>\n",
       "      <td>1</td>\n",
       "      <td>-1</td>\n",
       "      <td>0</td>\n",
       "      <td>0</td>\n",
       "    </tr>\n",
       "    <tr>\n",
       "      <th>3</th>\n",
       "      <td>47</td>\n",
       "      <td>3</td>\n",
       "      <td>0</td>\n",
       "      <td>2</td>\n",
       "      <td>0</td>\n",
       "      <td>1506</td>\n",
       "      <td>0</td>\n",
       "      <td>0</td>\n",
       "      <td>0</td>\n",
       "      <td>0</td>\n",
       "      <td>0</td>\n",
       "      <td>92</td>\n",
       "      <td>1</td>\n",
       "      <td>-1</td>\n",
       "      <td>0</td>\n",
       "      <td>0</td>\n",
       "    </tr>\n",
       "    <tr>\n",
       "      <th>4</th>\n",
       "      <td>33</td>\n",
       "      <td>4</td>\n",
       "      <td>1</td>\n",
       "      <td>2</td>\n",
       "      <td>0</td>\n",
       "      <td>1</td>\n",
       "      <td>1</td>\n",
       "      <td>0</td>\n",
       "      <td>0</td>\n",
       "      <td>0</td>\n",
       "      <td>0</td>\n",
       "      <td>198</td>\n",
       "      <td>1</td>\n",
       "      <td>-1</td>\n",
       "      <td>0</td>\n",
       "      <td>0</td>\n",
       "    </tr>\n",
       "    <tr>\n",
       "      <th>5</th>\n",
       "      <td>35</td>\n",
       "      <td>0</td>\n",
       "      <td>0</td>\n",
       "      <td>0</td>\n",
       "      <td>0</td>\n",
       "      <td>231</td>\n",
       "      <td>0</td>\n",
       "      <td>0</td>\n",
       "      <td>0</td>\n",
       "      <td>0</td>\n",
       "      <td>0</td>\n",
       "      <td>139</td>\n",
       "      <td>1</td>\n",
       "      <td>-1</td>\n",
       "      <td>0</td>\n",
       "      <td>0</td>\n",
       "    </tr>\n",
       "    <tr>\n",
       "      <th>6</th>\n",
       "      <td>28</td>\n",
       "      <td>0</td>\n",
       "      <td>1</td>\n",
       "      <td>0</td>\n",
       "      <td>0</td>\n",
       "      <td>447</td>\n",
       "      <td>0</td>\n",
       "      <td>1</td>\n",
       "      <td>0</td>\n",
       "      <td>0</td>\n",
       "      <td>0</td>\n",
       "      <td>217</td>\n",
       "      <td>1</td>\n",
       "      <td>-1</td>\n",
       "      <td>0</td>\n",
       "      <td>0</td>\n",
       "    </tr>\n",
       "    <tr>\n",
       "      <th>7</th>\n",
       "      <td>42</td>\n",
       "      <td>2</td>\n",
       "      <td>2</td>\n",
       "      <td>0</td>\n",
       "      <td>1</td>\n",
       "      <td>2</td>\n",
       "      <td>0</td>\n",
       "      <td>0</td>\n",
       "      <td>0</td>\n",
       "      <td>0</td>\n",
       "      <td>0</td>\n",
       "      <td>380</td>\n",
       "      <td>1</td>\n",
       "      <td>-1</td>\n",
       "      <td>0</td>\n",
       "      <td>0</td>\n",
       "    </tr>\n",
       "    <tr>\n",
       "      <th>8</th>\n",
       "      <td>58</td>\n",
       "      <td>5</td>\n",
       "      <td>0</td>\n",
       "      <td>3</td>\n",
       "      <td>0</td>\n",
       "      <td>121</td>\n",
       "      <td>0</td>\n",
       "      <td>0</td>\n",
       "      <td>0</td>\n",
       "      <td>0</td>\n",
       "      <td>0</td>\n",
       "      <td>50</td>\n",
       "      <td>1</td>\n",
       "      <td>-1</td>\n",
       "      <td>0</td>\n",
       "      <td>0</td>\n",
       "    </tr>\n",
       "    <tr>\n",
       "      <th>9</th>\n",
       "      <td>43</td>\n",
       "      <td>1</td>\n",
       "      <td>1</td>\n",
       "      <td>1</td>\n",
       "      <td>0</td>\n",
       "      <td>593</td>\n",
       "      <td>0</td>\n",
       "      <td>0</td>\n",
       "      <td>0</td>\n",
       "      <td>0</td>\n",
       "      <td>0</td>\n",
       "      <td>55</td>\n",
       "      <td>1</td>\n",
       "      <td>-1</td>\n",
       "      <td>0</td>\n",
       "      <td>0</td>\n",
       "    </tr>\n",
       "  </tbody>\n",
       "</table>\n",
       "</div>"
      ],
      "text/plain": [
       "   age  job  marital  education  default  balance  housing  loan  contact  \\\n",
       "0   58    0        0          0        0     2143        0     0        0   \n",
       "1   44    1        1          1        0       29        0     0        0   \n",
       "2   33    2        0          1        0        2        0     1        0   \n",
       "3   47    3        0          2        0     1506        0     0        0   \n",
       "4   33    4        1          2        0        1        1     0        0   \n",
       "5   35    0        0          0        0      231        0     0        0   \n",
       "6   28    0        1          0        0      447        0     1        0   \n",
       "7   42    2        2          0        1        2        0     0        0   \n",
       "8   58    5        0          3        0      121        0     0        0   \n",
       "9   43    1        1          1        0      593        0     0        0   \n",
       "\n",
       "   day  month  duration  campaign  pdays  previous  poutcome  \n",
       "0    0      0       261         1     -1         0         0  \n",
       "1    0      0       151         1     -1         0         0  \n",
       "2    0      0        76         1     -1         0         0  \n",
       "3    0      0        92         1     -1         0         0  \n",
       "4    0      0       198         1     -1         0         0  \n",
       "5    0      0       139         1     -1         0         0  \n",
       "6    0      0       217         1     -1         0         0  \n",
       "7    0      0       380         1     -1         0         0  \n",
       "8    0      0        50         1     -1         0         0  \n",
       "9    0      0        55         1     -1         0         0  "
      ]
     },
     "execution_count": 46,
     "metadata": {},
     "output_type": "execute_result"
    }
   ],
   "source": [
    "unique_val_count = {}\n",
    "\n",
    "cat = list(X.columns)\n",
    "cat.remove('age')\n",
    "cat.remove('balance')\n",
    "cat.remove('duration')\n",
    "cat.remove('pdays')\n",
    "cat.remove('campaign')\n",
    "cat.remove('previous')\n",
    "\n",
    "for col in X.columns:\n",
    "    if col not in cat:\n",
    "        continue\n",
    "    unique_values = np.unique(X[col])\n",
    "    temp = defaultdict(int)\n",
    "    for val in X[col]:\n",
    "        temp[val] += 1\n",
    "    unique_val_count[col] = temp\n",
    "\n",
    "print(f\"Number of Categorical columns : {len(unique_val_count.keys())}\")\n",
    "\n",
    "for col, attr in unique_val_count.items():\n",
    "    map_val = {}\n",
    "    count = 0\n",
    "    for key in attr.keys():\n",
    "        map_val[key] = count\n",
    "        count += 1\n",
    "    X[col] = X[col].map(map_val)\n",
    "\n",
    "X.head(10)"
   ]
  },
  {
   "cell_type": "code",
   "execution_count": 47,
   "metadata": {},
   "outputs": [
    {
     "data": {
      "text/plain": [
       "dict_keys(['job', 'marital', 'education', 'default', 'housing', 'loan', 'contact', 'day', 'month', 'poutcome'])"
      ]
     },
     "execution_count": 47,
     "metadata": {},
     "output_type": "execute_result"
    }
   ],
   "source": [
    "unique_val_count.keys()"
   ]
  },
  {
   "cell_type": "markdown",
   "metadata": {},
   "source": [
    "# Visualization of Categorical Features"
   ]
  },
  {
   "cell_type": "code",
   "execution_count": 48,
   "metadata": {},
   "outputs": [],
   "source": [
    "cross_tables = []\n",
    "for i in unique_val_count.keys():\n",
    "    cross_tables.append(pd.crosstab(X[i], y))"
   ]
  },
  {
   "cell_type": "markdown",
   "metadata": {},
   "source": [
    "### Job type vs Subscription Status"
   ]
  },
  {
   "cell_type": "code",
   "execution_count": 49,
   "metadata": {},
   "outputs": [
    {
     "data": {
      "image/png": "[encoded data removed]",
      "text/plain": [
       "<Figure size 432x288 with 1 Axes>"
      ]
     },
     "metadata": {
      "needs_background": "light"
     },
     "output_type": "display_data"
    }
   ],
   "source": [
    "width = 0.25\n",
    "plt.bar(np.arange(0, len(cross_tables[0])), cross_tables[0]['no'], color='blue', width=width, edgecolor='black', label='Not Subscribed')\n",
    "plt.bar(np.arange(0, len(cross_tables[0]))+width, cross_tables[0]['yes'], width=width, color='green', edgecolor='black', label='Subscribed')\n",
    "plt.xticks(np.arange(0, len(cross_tables[0])) + width/2, range(len(cross_tables[0])))\n",
    "plt.xlabel('Job')\n",
    "plt.ylabel('Number of Instances')\n",
    "plt.ylim([0, max((list(cross_tables[0]['no'])) + list(cross_tables[0]['yes']))+100])\n",
    "plt.legend()\n",
    "plt.title('Job type vs Subscription Status')\n",
    "plt.show()"
   ]
  },
  {
   "cell_type": "markdown",
   "metadata": {},
   "source": [
    "### Marital Status vs Subscription Status"
   ]
  },
  {
   "cell_type": "code",
   "execution_count": 50,
   "metadata": {},
   "outputs": [
    {
     "data": {
      "image/png": "[encoded data removed]",
      "text/plain": [
       "<Figure size 432x288 with 1 Axes>"
      ]
     },
     "metadata": {
      "needs_background": "light"
     },
     "output_type": "display_data"
    }
   ],
   "source": [
    "width = 0.25\n",
    "plt.bar(np.arange(0, len(cross_tables[1])), cross_tables[1]['no'], color='blue', width=width, edgecolor='black', label='Not Subscribed')\n",
    "plt.bar(np.arange(0, len(cross_tables[1]))+width, cross_tables[1]['yes'], width=width, color='green', edgecolor='black', label='Subscribed')\n",
    "plt.xticks(np.arange(0, len(cross_tables[1])) + width/2, unique_val_count['marital'].keys())\n",
    "plt.xlabel('Marital Status')\n",
    "plt.ylabel('Number of Instances')\n",
    "plt.ylim([0, max((list(cross_tables[1]['no'])) + list(cross_tables[1]['yes']))+1000])\n",
    "plt.legend()\n",
    "plt.title('Marital Status vs Subscription Status')\n",
    "plt.show()"
   ]
  },
  {
   "cell_type": "markdown",
   "metadata": {},
   "source": [
    "### Education vs Subscription Status"
   ]
  },
  {
   "cell_type": "code",
   "execution_count": 51,
   "metadata": {},
   "outputs": [
    {
     "data": {
      "image/png": "[encoded data removed]",
      "text/plain": [
       "<Figure size 432x288 with 1 Axes>"
      ]
     },
     "metadata": {
      "needs_background": "light"
     },
     "output_type": "display_data"
    }
   ],
   "source": [
    "width = 0.25\n",
    "plt.bar(np.arange(0, len(cross_tables[2])), cross_tables[2]['no'], color='blue', width=width, edgecolor='black', label='Not Subscribed')\n",
    "plt.bar(np.arange(0, len(cross_tables[2]))+width, cross_tables[2]['yes'], width=width, color='green', edgecolor='black', label='Subscribed')\n",
    "plt.xticks(np.arange(0, len(cross_tables[2])) + width/2, unique_val_count['education'].keys())\n",
    "plt.xlabel('Education')\n",
    "plt.ylabel('Number of Instances')\n",
    "plt.ylim([0, max((list(cross_tables[2]['no'])) + list(cross_tables[2]['yes']))+1000])\n",
    "plt.legend()\n",
    "plt.title('Education Level vs Subscription Status')\n",
    "plt.show()"
   ]
  },
  {
   "cell_type": "markdown",
   "metadata": {},
   "source": [
    "### Defaulter vs Subscription Status"
   ]
  },
  {
   "cell_type": "code",
   "execution_count": 52,
   "metadata": {},
   "outputs": [
    {
     "data": {
      "image/png": "[encoded data removed]",
      "text/plain": [
       "<Figure size 432x288 with 1 Axes>"
      ]
     },
     "metadata": {
      "needs_background": "light"
     },
     "output_type": "display_data"
    }
   ],
   "source": [
    "width = 0.25\n",
    "plt.bar(np.arange(0, len(cross_tables[3])), cross_tables[3]['no'], color='blue', width=width, edgecolor='black', label='Not Subscribed')\n",
    "plt.bar(np.arange(0, len(cross_tables[3]))+width, cross_tables[3]['yes'], width=width, color='green', edgecolor='black', label='Subscribed')\n",
    "plt.xticks(np.arange(0, len(cross_tables[3])) + width/2, unique_val_count['default'].keys())\n",
    "plt.xlabel('Defaulter')\n",
    "plt.ylabel('Number of Instances')\n",
    "plt.ylim([0, max((list(cross_tables[3]['no'])) + list(cross_tables[3]['yes']))+1000])\n",
    "plt.legend()\n",
    "plt.title('Defaulter Status vs Subscription Status')\n",
    "plt.show()"
   ]
  },
  {
   "cell_type": "markdown",
   "metadata": {},
   "source": [
    "### Housing Status vs Subscription Status"
   ]
  },
  {
   "cell_type": "code",
   "execution_count": 53,
   "metadata": {},
   "outputs": [
    {
     "data": {
      "image/png": "[encoded data removed]",
      "text/plain": [
       "<Figure size 432x288 with 1 Axes>"
      ]
     },
     "metadata": {
      "needs_background": "light"
     },
     "output_type": "display_data"
    }
   ],
   "source": [
    "width = 0.25\n",
    "plt.bar(np.arange(0, len(cross_tables[4])), cross_tables[4]['no'], color='blue', width=width, edgecolor='black', label='Not Subscribed')\n",
    "plt.bar(np.arange(0, len(cross_tables[4]))+width, cross_tables[4]['yes'], width=width, color='green', edgecolor='black', label='Subscribed')\n",
    "plt.xticks(np.arange(0, len(cross_tables[4])) + width/2, unique_val_count['housing'].keys())\n",
    "plt.xlabel('Housing Status')\n",
    "plt.ylabel('Number of Instances')\n",
    "plt.ylim([0, max((list(cross_tables[4]['no'])) + list(cross_tables[4]['yes']))+1000])\n",
    "plt.legend()\n",
    "plt.title('Housing Status vs Subscription Status')\n",
    "plt.show()"
   ]
  },
  {
   "cell_type": "markdown",
   "metadata": {},
   "source": [
    "### Loan status vs Subscription Status"
   ]
  },
  {
   "cell_type": "code",
   "execution_count": 54,
   "metadata": {},
   "outputs": [
    {
     "data": {
      "image/png": "[encoded data removed]",
      "text/plain": [
       "<Figure size 432x288 with 1 Axes>"
      ]
     },
     "metadata": {
      "needs_background": "light"
     },
     "output_type": "display_data"
    }
   ],
   "source": [
    "width = 0.25\n",
    "plt.bar(np.arange(0, len(cross_tables[5])), cross_tables[5]['no'], color='blue', width=width, edgecolor='black', label='Not Subscribed')\n",
    "plt.bar(np.arange(0, len(cross_tables[5]))+width, cross_tables[5]['yes'], width=width, color='green', edgecolor='black', label='Subscribed')\n",
    "plt.xticks(np.arange(0, len(cross_tables[5])) + width/2, unique_val_count['loan'].keys())\n",
    "plt.xlabel('Loan Status')\n",
    "plt.ylabel('Number of Instances')\n",
    "plt.ylim([0, max((list(cross_tables[5]['no'])) + list(cross_tables[5]['yes']))+1000])\n",
    "plt.legend()\n",
    "plt.title('Loan Status vs Subscription Status')\n",
    "plt.show()"
   ]
  },
  {
   "cell_type": "markdown",
   "metadata": {},
   "source": [
    "### Contact type vs Subscription Status"
   ]
  },
  {
   "cell_type": "code",
   "execution_count": 55,
   "metadata": {},
   "outputs": [
    {
     "data": {
      "image/png": "[encoded data removed]",
      "text/plain": [
       "<Figure size 432x288 with 1 Axes>"
      ]
     },
     "metadata": {
      "needs_background": "light"
     },
     "output_type": "display_data"
    }
   ],
   "source": [
    "width = 0.25\n",
    "plt.bar(np.arange(0, len(cross_tables[6])), cross_tables[6]['no'], color='blue', width=width, edgecolor='black', label='Not Subscribed')\n",
    "plt.bar(np.arange(0, len(cross_tables[6]))+width, cross_tables[6]['yes'], width=width, color='green', edgecolor='black', label='Subscribed')\n",
    "plt.xticks(np.arange(0, len(cross_tables[6])) + width/2, unique_val_count['contact'].keys())\n",
    "plt.xlabel('Contact Type')\n",
    "plt.ylabel('Number of Instances')\n",
    "plt.ylim([0, max((list(cross_tables[6]['no'])) + list(cross_tables[6]['yes']))+1000])\n",
    "plt.legend()\n",
    "plt.title('Contact type vs Subscription Status')\n",
    "plt.show()"
   ]
  },
  {
   "cell_type": "markdown",
   "metadata": {},
   "source": [
    "### Last Day contacted vs Subscription Status"
   ]
  },
  {
   "cell_type": "code",
   "execution_count": 56,
   "metadata": {},
   "outputs": [
    {
     "data": {
      "image/png": "[encoded data removed]",
      "text/plain": [
       "<Figure size 432x288 with 1 Axes>"
      ]
     },
     "metadata": {
      "needs_background": "light"
     },
     "output_type": "display_data"
    }
   ],
   "source": [
    "width = 0.25\n",
    "plt.bar(np.arange(0, len(cross_tables[7])), cross_tables[7]['no'], color='blue', width=width, edgecolor='black', label='Not Subscribed')\n",
    "plt.bar(np.arange(0, len(cross_tables[7]))+width, cross_tables[7]['yes'], width=width, color='green', edgecolor='black', label='Subscribed')\n",
    "plt.xticks(np.arange(0, len(cross_tables[7])) + width/2, unique_val_count['day'].keys())\n",
    "plt.xlabel('Day of the Month')\n",
    "plt.ylabel('Number of Instances')\n",
    "plt.ylim([0, max((list(cross_tables[7]['no'])) + list(cross_tables[7]['yes']))+1000])\n",
    "plt.legend()\n",
    "plt.title('Last Contact Day vs Subscription Status')\n",
    "plt.show()"
   ]
  },
  {
   "cell_type": "markdown",
   "metadata": {},
   "source": [
    "### Last contact month vs Subscription Status"
   ]
  },
  {
   "cell_type": "code",
   "execution_count": 57,
   "metadata": {},
   "outputs": [
    {
     "data": {
      "image/png": "[encoded data removed]",
      "text/plain": [
       "<Figure size 432x288 with 1 Axes>"
      ]
     },
     "metadata": {
      "needs_background": "light"
     },
     "output_type": "display_data"
    }
   ],
   "source": [
    "width = 0.25\n",
    "plt.bar(np.arange(0, len(cross_tables[8])), cross_tables[8]['no'], color='blue', width=width, edgecolor='black', label='Not Subscribed')\n",
    "plt.bar(np.arange(0, len(cross_tables[8]))+width, cross_tables[8]['yes'], width=width, color='green', edgecolor='black', label='Subscribed')\n",
    "plt.xticks(np.arange(0, len(cross_tables[8])) + width/2, unique_val_count['month'].keys())\n",
    "plt.xlabel('Month name')\n",
    "plt.ylabel('Number of Instances')\n",
    "plt.ylim([0, max((list(cross_tables[8]['no'])) + list(cross_tables[8]['yes']))+1000])\n",
    "plt.legend()\n",
    "plt.title('Last Contact Month vs Subscription Status')\n",
    "plt.show()"
   ]
  },
  {
   "cell_type": "markdown",
   "metadata": {},
   "source": [
    "### Outcome of previous campaign vs Subscription Status"
   ]
  },
  {
   "cell_type": "code",
   "execution_count": 58,
   "metadata": {},
   "outputs": [
    {
     "data": {
      "image/png": "[encoded data removed]",
      "text/plain": [
       "<Figure size 432x288 with 1 Axes>"
      ]
     },
     "metadata": {
      "needs_background": "light"
     },
     "output_type": "display_data"
    }
   ],
   "source": [
    "width = 0.25\n",
    "plt.bar(np.arange(0, len(cross_tables[9])), cross_tables[9]['no'], color='blue', width=width, edgecolor='black', label='Not Subscribed')\n",
    "plt.bar(np.arange(0, len(cross_tables[9]))+width, cross_tables[9]['yes'], width=width, color='green', edgecolor='black', label='Subscribed')\n",
    "plt.xticks(np.arange(0, len(cross_tables[9])) + width/2, unique_val_count['poutcome'].keys())\n",
    "plt.xlabel('Outcome')\n",
    "plt.ylabel('Number of Instances')\n",
    "plt.ylim([0, max((list(cross_tables[9]['no'])) + list(cross_tables[9]['yes']))+1000])\n",
    "plt.legend()\n",
    "plt.title('Outcome of Prev Campaign vs Subscription Status')\n",
    "plt.show()"
   ]
  },
  {
   "cell_type": "markdown",
   "metadata": {},
   "source": [
    "# Data Visualization after PCA"
   ]
  },
  {
   "cell_type": "code",
   "execution_count": 59,
   "metadata": {},
   "outputs": [
    {
     "data": {
      "image/png": "[encoded data removed]",
      "text/plain": [
       "<Figure size 432x288 with 1 Axes>"
      ]
     },
     "metadata": {
      "needs_background": "light"
     },
     "output_type": "display_data"
    }
   ],
   "source": [
    "from sklearn.decomposition import PCA\n",
    "\n",
    "y = y.map({'yes' : 1, 'no' : 0})\n",
    "X = np.array(X)\n",
    "y = np.array(y)\n",
    "\n",
    "X_pca = PCA(n_components=2).fit_transform(X)\n",
    "\n",
    "x_no = []\n",
    "x_yes = []\n",
    "for i in range(len(y)):\n",
    "    if y[i] == 0:\n",
    "        x_no.append(X_pca[i])\n",
    "    else:\n",
    "        x_yes.append(X_pca[i])\n",
    "\n",
    "x_no = np.array(x_no)\n",
    "x_yes = np.array(x_yes)\n",
    "\n",
    "plt.scatter(x_no[:,0], x_no[:,1], color='blue', label='Not Subscribed')\n",
    "plt.scatter(x_yes[:,0], x_yes[:,1], color='green', label='Subscribed')\n",
    "plt.xlabel('PC-1')\n",
    "plt.ylabel('PC-2')\n",
    "plt.legend()\n",
    "plt.title('PCA for 2D visualization')\n",
    "plt.show()"
   ]
  },
  {
   "cell_type": "code",
   "execution_count": 60,
   "metadata": {},
   "outputs": [
    {
     "data": {
      "image/png": "[encoded data removed]",
      "text/plain": [
       "<Figure size 432x288 with 1 Axes>"
      ]
     },
     "metadata": {
      "needs_background": "light"
     },
     "output_type": "display_data"
    }
   ],
   "source": [
    "X_pca = PCA(n_components=3).fit_transform(X)\n",
    "\n",
    "x_no = []\n",
    "x_yes = []\n",
    "for i in range(len(y)):\n",
    "    if y[i] == 0:\n",
    "        x_no.append(X_pca[i])\n",
    "    else:\n",
    "        x_yes.append(X_pca[i])\n",
    "\n",
    "x_no = np.array(x_no)\n",
    "x_yes = np.array(x_yes)\n",
    "\n",
    "plt.figure()\n",
    "ax = plt.axes(projection='3d')\n",
    "ax.scatter3D(x_no[:,0], x_no[:,1], x_no[:,2], cmap='Blues')\n",
    "ax.scatter3D(x_yes[:,0], x_yes[:,1], x_yes[:,2], cmap='Reds')\n",
    "ax.set_xlabel('PC-1')\n",
    "ax.set_ylabel('PC-2')\n",
    "ax.set_zlabel('PC-3')\n",
    "plt.legend(['Not Subscribed', 'Subscribed'])\n",
    "plt.show()"
   ]
  },
  {
   "cell_type": "markdown",
   "metadata": {},
   "source": [
    "# Data Normalization"
   ]
  },
  {
   "cell_type": "code",
   "execution_count": 61,
   "metadata": {},
   "outputs": [
    {
     "data": {
      "text/plain": [
       "array([[ 1.60696496, -1.13808302, -0.74066636, -1.08356042, -0.13548989,\n",
       "         0.25641925, -0.89391541, -0.43680347, -1.41210845, -1.55754973,\n",
       "        -0.92484102,  0.0110161 , -0.56935064, -0.41145311, -0.25194037,\n",
       "        -0.41528717],\n",
       "       [ 0.28852927, -0.81532633,  0.70245839, -0.05154268, -0.13548989,\n",
       "        -0.43789469, -0.89391541, -0.43680347, -1.41210845, -1.55754973,\n",
       "        -0.92484102, -0.41612696, -0.56935064, -0.41145311, -0.25194037,\n",
       "        -0.41528717]])"
      ]
     },
     "execution_count": 61,
     "metadata": {},
     "output_type": "execute_result"
    }
   ],
   "source": [
    "from sklearn.preprocessing import StandardScaler\n",
    "X_scaled = StandardScaler().fit_transform(X)\n",
    "X_scaled[:2]\n",
    "#scaler = MinMaxScaler().fit(train)\n",
    "#X_scaled = scaler.transform(train)"
   ]
  },
  {
   "cell_type": "markdown",
   "metadata": {},
   "source": [
    "# Data Splitting"
   ]
  },
  {
   "cell_type": "code",
   "execution_count": 62,
   "metadata": {},
   "outputs": [
    {
     "name": "stdout",
     "output_type": "stream",
     "text": [
      "Train size : 36168\tValidation size : 9043\n"
     ]
    }
   ],
   "source": [
    "from sklearn.model_selection import train_test_split\n",
    "X_train, X_val, y_train, y_val = train_test_split(X_scaled, y, test_size=0.2)\n",
    "print(f\"Train size : {len(X_train)}\\tValidation size : {len(X_val)}\")"
   ]
  },
  {
   "cell_type": "markdown",
   "metadata": {},
   "source": [
    "# Model Selection"
   ]
  },
  {
   "cell_type": "code",
   "execution_count": 63,
   "metadata": {},
   "outputs": [],
   "source": [
    "from sklearn.metrics import accuracy_score, f1_score, roc_auc_score, roc_curve, RocCurveDisplay\n",
    "import copy, pickle\n",
    "from sklearn.model_selection import cross_val_score\n",
    "\n",
    "models_path = 'D:\\IIT JODHPUR\\Semester-3\\ML for Business\\Course Project\\\\best_models'"
   ]
  },
  {
   "cell_type": "markdown",
   "metadata": {},
   "source": [
    "## Logistic Regression"
   ]
  },
  {
   "cell_type": "code",
   "execution_count": 64,
   "metadata": {},
   "outputs": [
    {
     "name": "stderr",
     "output_type": "stream",
     "text": [
      "c:\\Users\\ayana\\AppData\\Local\\Programs\\Python\\Python310\\lib\\site-packages\\sklearn\\linear_model\\_logistic.py:814: ConvergenceWarning: lbfgs failed to converge (status=1):\n",
      "STOP: TOTAL NO. of ITERATIONS REACHED LIMIT.\n",
      "\n",
      "Increase the number of iterations (max_iter) or scale the data as shown in:\n",
      "    https://scikit-learn.org/stable/modules/preprocessing.html\n",
      "Please also refer to the documentation for alternative solver options:\n",
      "    https://scikit-learn.org/stable/modules/linear_model.html#logistic-regression\n",
      "  n_iter_i = _check_optimize_result(\n",
      "c:\\Users\\ayana\\AppData\\Local\\Programs\\Python\\Python310\\lib\\site-packages\\sklearn\\linear_model\\_logistic.py:814: ConvergenceWarning: lbfgs failed to converge (status=1):\n",
      "STOP: TOTAL NO. of ITERATIONS REACHED LIMIT.\n",
      "\n",
      "Increase the number of iterations (max_iter) or scale the data as shown in:\n",
      "    https://scikit-learn.org/stable/modules/preprocessing.html\n",
      "Please also refer to the documentation for alternative solver options:\n",
      "    https://scikit-learn.org/stable/modules/linear_model.html#logistic-regression\n",
      "  n_iter_i = _check_optimize_result(\n",
      "c:\\Users\\ayana\\AppData\\Local\\Programs\\Python\\Python310\\lib\\site-packages\\sklearn\\linear_model\\_logistic.py:814: ConvergenceWarning: lbfgs failed to converge (status=1):\n",
      "STOP: TOTAL NO. of ITERATIONS REACHED LIMIT.\n",
      "\n",
      "Increase the number of iterations (max_iter) or scale the data as shown in:\n",
      "    https://scikit-learn.org/stable/modules/preprocessing.html\n",
      "Please also refer to the documentation for alternative solver options:\n",
      "    https://scikit-learn.org/stable/modules/linear_model.html#logistic-regression\n",
      "  n_iter_i = _check_optimize_result(\n",
      "c:\\Users\\ayana\\AppData\\Local\\Programs\\Python\\Python310\\lib\\site-packages\\sklearn\\linear_model\\_logistic.py:814: ConvergenceWarning: lbfgs failed to converge (status=1):\n",
      "STOP: TOTAL NO. of ITERATIONS REACHED LIMIT.\n",
      "\n",
      "Increase the number of iterations (max_iter) or scale the data as shown in:\n",
      "    https://scikit-learn.org/stable/modules/preprocessing.html\n",
      "Please also refer to the documentation for alternative solver options:\n",
      "    https://scikit-learn.org/stable/modules/linear_model.html#logistic-regression\n",
      "  n_iter_i = _check_optimize_result(\n",
      "c:\\Users\\ayana\\AppData\\Local\\Programs\\Python\\Python310\\lib\\site-packages\\sklearn\\linear_model\\_logistic.py:814: ConvergenceWarning: lbfgs failed to converge (status=1):\n",
      "STOP: TOTAL NO. of ITERATIONS REACHED LIMIT.\n",
      "\n",
      "Increase the number of iterations (max_iter) or scale the data as shown in:\n",
      "    https://scikit-learn.org/stable/modules/preprocessing.html\n",
      "Please also refer to the documentation for alternative solver options:\n",
      "    https://scikit-learn.org/stable/modules/linear_model.html#logistic-regression\n",
      "  n_iter_i = _check_optimize_result(\n",
      "c:\\Users\\ayana\\AppData\\Local\\Programs\\Python\\Python310\\lib\\site-packages\\sklearn\\linear_model\\_logistic.py:814: ConvergenceWarning: lbfgs failed to converge (status=1):\n",
      "STOP: TOTAL NO. of ITERATIONS REACHED LIMIT.\n",
      "\n",
      "Increase the number of iterations (max_iter) or scale the data as shown in:\n",
      "    https://scikit-learn.org/stable/modules/preprocessing.html\n",
      "Please also refer to the documentation for alternative solver options:\n",
      "    https://scikit-learn.org/stable/modules/linear_model.html#logistic-regression\n",
      "  n_iter_i = _check_optimize_result(\n"
     ]
    },
    {
     "name": "stdout",
     "output_type": "stream",
     "text": [
      "C : 0.001\tAccuracy : 0.826\tF1 Score : 0.850\n"
     ]
    },
    {
     "name": "stderr",
     "output_type": "stream",
     "text": [
      "c:\\Users\\ayana\\AppData\\Local\\Programs\\Python\\Python310\\lib\\site-packages\\sklearn\\linear_model\\_logistic.py:814: ConvergenceWarning: lbfgs failed to converge (status=1):\n",
      "STOP: TOTAL NO. of ITERATIONS REACHED LIMIT.\n",
      "\n",
      "Increase the number of iterations (max_iter) or scale the data as shown in:\n",
      "    https://scikit-learn.org/stable/modules/preprocessing.html\n",
      "Please also refer to the documentation for alternative solver options:\n",
      "    https://scikit-learn.org/stable/modules/linear_model.html#logistic-regression\n",
      "  n_iter_i = _check_optimize_result(\n",
      "c:\\Users\\ayana\\AppData\\Local\\Programs\\Python\\Python310\\lib\\site-packages\\sklearn\\linear_model\\_logistic.py:814: ConvergenceWarning: lbfgs failed to converge (status=1):\n",
      "STOP: TOTAL NO. of ITERATIONS REACHED LIMIT.\n",
      "\n",
      "Increase the number of iterations (max_iter) or scale the data as shown in:\n",
      "    https://scikit-learn.org/stable/modules/preprocessing.html\n",
      "Please also refer to the documentation for alternative solver options:\n",
      "    https://scikit-learn.org/stable/modules/linear_model.html#logistic-regression\n",
      "  n_iter_i = _check_optimize_result(\n",
      "c:\\Users\\ayana\\AppData\\Local\\Programs\\Python\\Python310\\lib\\site-packages\\sklearn\\linear_model\\_logistic.py:814: ConvergenceWarning: lbfgs failed to converge (status=1):\n",
      "STOP: TOTAL NO. of ITERATIONS REACHED LIMIT.\n",
      "\n",
      "Increase the number of iterations (max_iter) or scale the data as shown in:\n",
      "    https://scikit-learn.org/stable/modules/preprocessing.html\n",
      "Please also refer to the documentation for alternative solver options:\n",
      "    https://scikit-learn.org/stable/modules/linear_model.html#logistic-regression\n",
      "  n_iter_i = _check_optimize_result(\n",
      "c:\\Users\\ayana\\AppData\\Local\\Programs\\Python\\Python310\\lib\\site-packages\\sklearn\\linear_model\\_logistic.py:814: ConvergenceWarning: lbfgs failed to converge (status=1):\n",
      "STOP: TOTAL NO. of ITERATIONS REACHED LIMIT.\n",
      "\n",
      "Increase the number of iterations (max_iter) or scale the data as shown in:\n",
      "    https://scikit-learn.org/stable/modules/preprocessing.html\n",
      "Please also refer to the documentation for alternative solver options:\n",
      "    https://scikit-learn.org/stable/modules/linear_model.html#logistic-regression\n",
      "  n_iter_i = _check_optimize_result(\n"
     ]
    },
    {
     "name": "stdout",
     "output_type": "stream",
     "text": [
      "C : 0.010\tAccuracy : 0.826\tF1 Score : 0.850\n"
     ]
    },
    {
     "name": "stderr",
     "output_type": "stream",
     "text": [
      "c:\\Users\\ayana\\AppData\\Local\\Programs\\Python\\Python310\\lib\\site-packages\\sklearn\\linear_model\\_logistic.py:814: ConvergenceWarning: lbfgs failed to converge (status=1):\n",
      "STOP: TOTAL NO. of ITERATIONS REACHED LIMIT.\n",
      "\n",
      "Increase the number of iterations (max_iter) or scale the data as shown in:\n",
      "    https://scikit-learn.org/stable/modules/preprocessing.html\n",
      "Please also refer to the documentation for alternative solver options:\n",
      "    https://scikit-learn.org/stable/modules/linear_model.html#logistic-regression\n",
      "  n_iter_i = _check_optimize_result(\n",
      "c:\\Users\\ayana\\AppData\\Local\\Programs\\Python\\Python310\\lib\\site-packages\\sklearn\\linear_model\\_logistic.py:814: ConvergenceWarning: lbfgs failed to converge (status=1):\n",
      "STOP: TOTAL NO. of ITERATIONS REACHED LIMIT.\n",
      "\n",
      "Increase the number of iterations (max_iter) or scale the data as shown in:\n",
      "    https://scikit-learn.org/stable/modules/preprocessing.html\n",
      "Please also refer to the documentation for alternative solver options:\n",
      "    https://scikit-learn.org/stable/modules/linear_model.html#logistic-regression\n",
      "  n_iter_i = _check_optimize_result(\n",
      "c:\\Users\\ayana\\AppData\\Local\\Programs\\Python\\Python310\\lib\\site-packages\\sklearn\\linear_model\\_logistic.py:814: ConvergenceWarning: lbfgs failed to converge (status=1):\n",
      "STOP: TOTAL NO. of ITERATIONS REACHED LIMIT.\n",
      "\n",
      "Increase the number of iterations (max_iter) or scale the data as shown in:\n",
      "    https://scikit-learn.org/stable/modules/preprocessing.html\n",
      "Please also refer to the documentation for alternative solver options:\n",
      "    https://scikit-learn.org/stable/modules/linear_model.html#logistic-regression\n",
      "  n_iter_i = _check_optimize_result(\n",
      "c:\\Users\\ayana\\AppData\\Local\\Programs\\Python\\Python310\\lib\\site-packages\\sklearn\\linear_model\\_logistic.py:814: ConvergenceWarning: lbfgs failed to converge (status=1):\n",
      "STOP: TOTAL NO. of ITERATIONS REACHED LIMIT.\n",
      "\n",
      "Increase the number of iterations (max_iter) or scale the data as shown in:\n",
      "    https://scikit-learn.org/stable/modules/preprocessing.html\n",
      "Please also refer to the documentation for alternative solver options:\n",
      "    https://scikit-learn.org/stable/modules/linear_model.html#logistic-regression\n",
      "  n_iter_i = _check_optimize_result(\n",
      "c:\\Users\\ayana\\AppData\\Local\\Programs\\Python\\Python310\\lib\\site-packages\\sklearn\\linear_model\\_logistic.py:814: ConvergenceWarning: lbfgs failed to converge (status=1):\n",
      "STOP: TOTAL NO. of ITERATIONS REACHED LIMIT.\n",
      "\n",
      "Increase the number of iterations (max_iter) or scale the data as shown in:\n",
      "    https://scikit-learn.org/stable/modules/preprocessing.html\n",
      "Please also refer to the documentation for alternative solver options:\n",
      "    https://scikit-learn.org/stable/modules/linear_model.html#logistic-regression\n",
      "  n_iter_i = _check_optimize_result(\n",
      "c:\\Users\\ayana\\AppData\\Local\\Programs\\Python\\Python310\\lib\\site-packages\\sklearn\\linear_model\\_logistic.py:814: ConvergenceWarning: lbfgs failed to converge (status=1):\n",
      "STOP: TOTAL NO. of ITERATIONS REACHED LIMIT.\n",
      "\n",
      "Increase the number of iterations (max_iter) or scale the data as shown in:\n",
      "    https://scikit-learn.org/stable/modules/preprocessing.html\n",
      "Please also refer to the documentation for alternative solver options:\n",
      "    https://scikit-learn.org/stable/modules/linear_model.html#logistic-regression\n",
      "  n_iter_i = _check_optimize_result(\n"
     ]
    },
    {
     "name": "stdout",
     "output_type": "stream",
     "text": [
      "C : 0.100\tAccuracy : 0.826\tF1 Score : 0.850\n"
     ]
    },
    {
     "name": "stderr",
     "output_type": "stream",
     "text": [
      "c:\\Users\\ayana\\AppData\\Local\\Programs\\Python\\Python310\\lib\\site-packages\\sklearn\\linear_model\\_logistic.py:814: ConvergenceWarning: lbfgs failed to converge (status=1):\n",
      "STOP: TOTAL NO. of ITERATIONS REACHED LIMIT.\n",
      "\n",
      "Increase the number of iterations (max_iter) or scale the data as shown in:\n",
      "    https://scikit-learn.org/stable/modules/preprocessing.html\n",
      "Please also refer to the documentation for alternative solver options:\n",
      "    https://scikit-learn.org/stable/modules/linear_model.html#logistic-regression\n",
      "  n_iter_i = _check_optimize_result(\n",
      "c:\\Users\\ayana\\AppData\\Local\\Programs\\Python\\Python310\\lib\\site-packages\\sklearn\\linear_model\\_logistic.py:814: ConvergenceWarning: lbfgs failed to converge (status=1):\n",
      "STOP: TOTAL NO. of ITERATIONS REACHED LIMIT.\n",
      "\n",
      "Increase the number of iterations (max_iter) or scale the data as shown in:\n",
      "    https://scikit-learn.org/stable/modules/preprocessing.html\n",
      "Please also refer to the documentation for alternative solver options:\n",
      "    https://scikit-learn.org/stable/modules/linear_model.html#logistic-regression\n",
      "  n_iter_i = _check_optimize_result(\n",
      "c:\\Users\\ayana\\AppData\\Local\\Programs\\Python\\Python310\\lib\\site-packages\\sklearn\\linear_model\\_logistic.py:814: ConvergenceWarning: lbfgs failed to converge (status=1):\n",
      "STOP: TOTAL NO. of ITERATIONS REACHED LIMIT.\n",
      "\n",
      "Increase the number of iterations (max_iter) or scale the data as shown in:\n",
      "    https://scikit-learn.org/stable/modules/preprocessing.html\n",
      "Please also refer to the documentation for alternative solver options:\n",
      "    https://scikit-learn.org/stable/modules/linear_model.html#logistic-regression\n",
      "  n_iter_i = _check_optimize_result(\n",
      "c:\\Users\\ayana\\AppData\\Local\\Programs\\Python\\Python310\\lib\\site-packages\\sklearn\\linear_model\\_logistic.py:814: ConvergenceWarning: lbfgs failed to converge (status=1):\n",
      "STOP: TOTAL NO. of ITERATIONS REACHED LIMIT.\n",
      "\n",
      "Increase the number of iterations (max_iter) or scale the data as shown in:\n",
      "    https://scikit-learn.org/stable/modules/preprocessing.html\n",
      "Please also refer to the documentation for alternative solver options:\n",
      "    https://scikit-learn.org/stable/modules/linear_model.html#logistic-regression\n",
      "  n_iter_i = _check_optimize_result(\n"
     ]
    },
    {
     "name": "stdout",
     "output_type": "stream",
     "text": [
      "C : 1.000\tAccuracy : 0.826\tF1 Score : 0.850\n"
     ]
    },
    {
     "name": "stderr",
     "output_type": "stream",
     "text": [
      "c:\\Users\\ayana\\AppData\\Local\\Programs\\Python\\Python310\\lib\\site-packages\\sklearn\\linear_model\\_logistic.py:814: ConvergenceWarning: lbfgs failed to converge (status=1):\n",
      "STOP: TOTAL NO. of ITERATIONS REACHED LIMIT.\n",
      "\n",
      "Increase the number of iterations (max_iter) or scale the data as shown in:\n",
      "    https://scikit-learn.org/stable/modules/preprocessing.html\n",
      "Please also refer to the documentation for alternative solver options:\n",
      "    https://scikit-learn.org/stable/modules/linear_model.html#logistic-regression\n",
      "  n_iter_i = _check_optimize_result(\n",
      "c:\\Users\\ayana\\AppData\\Local\\Programs\\Python\\Python310\\lib\\site-packages\\sklearn\\linear_model\\_logistic.py:814: ConvergenceWarning: lbfgs failed to converge (status=1):\n",
      "STOP: TOTAL NO. of ITERATIONS REACHED LIMIT.\n",
      "\n",
      "Increase the number of iterations (max_iter) or scale the data as shown in:\n",
      "    https://scikit-learn.org/stable/modules/preprocessing.html\n",
      "Please also refer to the documentation for alternative solver options:\n",
      "    https://scikit-learn.org/stable/modules/linear_model.html#logistic-regression\n",
      "  n_iter_i = _check_optimize_result(\n",
      "c:\\Users\\ayana\\AppData\\Local\\Programs\\Python\\Python310\\lib\\site-packages\\sklearn\\linear_model\\_logistic.py:814: ConvergenceWarning: lbfgs failed to converge (status=1):\n",
      "STOP: TOTAL NO. of ITERATIONS REACHED LIMIT.\n",
      "\n",
      "Increase the number of iterations (max_iter) or scale the data as shown in:\n",
      "    https://scikit-learn.org/stable/modules/preprocessing.html\n",
      "Please also refer to the documentation for alternative solver options:\n",
      "    https://scikit-learn.org/stable/modules/linear_model.html#logistic-regression\n",
      "  n_iter_i = _check_optimize_result(\n",
      "c:\\Users\\ayana\\AppData\\Local\\Programs\\Python\\Python310\\lib\\site-packages\\sklearn\\linear_model\\_logistic.py:814: ConvergenceWarning: lbfgs failed to converge (status=1):\n",
      "STOP: TOTAL NO. of ITERATIONS REACHED LIMIT.\n",
      "\n",
      "Increase the number of iterations (max_iter) or scale the data as shown in:\n",
      "    https://scikit-learn.org/stable/modules/preprocessing.html\n",
      "Please also refer to the documentation for alternative solver options:\n",
      "    https://scikit-learn.org/stable/modules/linear_model.html#logistic-regression\n",
      "  n_iter_i = _check_optimize_result(\n"
     ]
    },
    {
     "name": "stdout",
     "output_type": "stream",
     "text": [
      "C : 10.000\tAccuracy : 0.826\tF1 Score : 0.850\n",
      "Best Model based on Validation Accuracy : {'C': 0.001, 'acc': 0.8264956319805374, 'f1': 0.8503038288499886, 'model': LogisticRegression(C=0.001, class_weight='balanced')}\n",
      "Validation Accuracy : 0.8264956319805374\n",
      "Test F1-Score : 0.8503038288499886\n"
     ]
    },
    {
     "name": "stderr",
     "output_type": "stream",
     "text": [
      "c:\\Users\\ayana\\AppData\\Local\\Programs\\Python\\Python310\\lib\\site-packages\\sklearn\\linear_model\\_logistic.py:814: ConvergenceWarning: lbfgs failed to converge (status=1):\n",
      "STOP: TOTAL NO. of ITERATIONS REACHED LIMIT.\n",
      "\n",
      "Increase the number of iterations (max_iter) or scale the data as shown in:\n",
      "    https://scikit-learn.org/stable/modules/preprocessing.html\n",
      "Please also refer to the documentation for alternative solver options:\n",
      "    https://scikit-learn.org/stable/modules/linear_model.html#logistic-regression\n",
      "  n_iter_i = _check_optimize_result(\n"
     ]
    },
    {
     "data": {
      "text/html": [
       "<div>\n",
       "<style scoped>\n",
       "    .dataframe tbody tr th:only-of-type {\n",
       "        vertical-align: middle;\n",
       "    }\n",
       "\n",
       "    .dataframe tbody tr th {\n",
       "        vertical-align: top;\n",
       "    }\n",
       "\n",
       "    .dataframe thead th {\n",
       "        text-align: right;\n",
       "    }\n",
       "</style>\n",
       "<table border=\"1\" class=\"dataframe\">\n",
       "  <thead>\n",
       "    <tr style=\"text-align: right;\">\n",
       "      <th></th>\n",
       "      <th>C</th>\n",
       "      <th>cv_score_fold1</th>\n",
       "      <th>cv_score_fold2</th>\n",
       "      <th>cv_score_fold3</th>\n",
       "      <th>cv_score_fold4</th>\n",
       "      <th>cv_score_fold5</th>\n",
       "      <th>mean</th>\n",
       "      <th>std</th>\n",
       "      <th>accuracy</th>\n",
       "      <th>f1_score</th>\n",
       "    </tr>\n",
       "  </thead>\n",
       "  <tbody>\n",
       "    <tr>\n",
       "      <th>0</th>\n",
       "      <td>0.001</td>\n",
       "      <td>0.856906</td>\n",
       "      <td>0.826698</td>\n",
       "      <td>0.840080</td>\n",
       "      <td>0.284119</td>\n",
       "      <td>0.669985</td>\n",
       "      <td>0.695557</td>\n",
       "      <td>0.216358</td>\n",
       "      <td>0.826496</td>\n",
       "      <td>0.850304</td>\n",
       "    </tr>\n",
       "    <tr>\n",
       "      <th>1</th>\n",
       "      <td>0.010</td>\n",
       "      <td>0.863320</td>\n",
       "      <td>0.811436</td>\n",
       "      <td>0.838310</td>\n",
       "      <td>0.276709</td>\n",
       "      <td>0.687680</td>\n",
       "      <td>0.695491</td>\n",
       "      <td>0.217920</td>\n",
       "      <td>0.825832</td>\n",
       "      <td>0.849926</td>\n",
       "    </tr>\n",
       "    <tr>\n",
       "      <th>2</th>\n",
       "      <td>0.100</td>\n",
       "      <td>0.865310</td>\n",
       "      <td>0.806348</td>\n",
       "      <td>0.841739</td>\n",
       "      <td>0.254369</td>\n",
       "      <td>0.686021</td>\n",
       "      <td>0.690757</td>\n",
       "      <td>0.226752</td>\n",
       "      <td>0.826053</td>\n",
       "      <td>0.850095</td>\n",
       "    </tr>\n",
       "    <tr>\n",
       "      <th>3</th>\n",
       "      <td>1.000</td>\n",
       "      <td>0.870176</td>\n",
       "      <td>0.809998</td>\n",
       "      <td>0.864189</td>\n",
       "      <td>0.278257</td>\n",
       "      <td>0.671422</td>\n",
       "      <td>0.698808</td>\n",
       "      <td>0.222123</td>\n",
       "      <td>0.826164</td>\n",
       "      <td>0.850179</td>\n",
       "    </tr>\n",
       "    <tr>\n",
       "      <th>4</th>\n",
       "      <td>10.000</td>\n",
       "      <td>0.869402</td>\n",
       "      <td>0.806791</td>\n",
       "      <td>0.865295</td>\n",
       "      <td>0.276266</td>\n",
       "      <td>0.673413</td>\n",
       "      <td>0.698233</td>\n",
       "      <td>0.222560</td>\n",
       "      <td>0.826164</td>\n",
       "      <td>0.850179</td>\n",
       "    </tr>\n",
       "  </tbody>\n",
       "</table>\n",
       "</div>"
      ],
      "text/plain": [
       "        C  cv_score_fold1  cv_score_fold2  cv_score_fold3  cv_score_fold4  \\\n",
       "0   0.001        0.856906        0.826698        0.840080        0.284119   \n",
       "1   0.010        0.863320        0.811436        0.838310        0.276709   \n",
       "2   0.100        0.865310        0.806348        0.841739        0.254369   \n",
       "3   1.000        0.870176        0.809998        0.864189        0.278257   \n",
       "4  10.000        0.869402        0.806791        0.865295        0.276266   \n",
       "\n",
       "   cv_score_fold5      mean       std  accuracy  f1_score  \n",
       "0        0.669985  0.695557  0.216358  0.826496  0.850304  \n",
       "1        0.687680  0.695491  0.217920  0.825832  0.849926  \n",
       "2        0.686021  0.690757  0.226752  0.826053  0.850095  \n",
       "3        0.671422  0.698808  0.222123  0.826164  0.850179  \n",
       "4        0.673413  0.698233  0.222560  0.826164  0.850179  "
      ]
     },
     "execution_count": 64,
     "metadata": {},
     "output_type": "execute_result"
    }
   ],
   "source": [
    "from sklearn.linear_model import LogisticRegression\n",
    "\n",
    "C = [0.001, 0.01, 0.1, 1, 10]\n",
    "ALL_MODELS = []\n",
    "\n",
    "best_model = {'C' : 0, 'acc' : 0, 'f1' : 0, 'model' : None}\n",
    "for c in C:\n",
    "    model = LogisticRegression(C=c, class_weight='balanced')\n",
    "    scores = cross_val_score(model, X, y, cv=5)\n",
    "    model.fit(X_train, y_train)\n",
    "    y_pred = model.predict(X_val)\n",
    "    acc = accuracy_score(y_true=y_val, y_pred=y_pred)\n",
    "    f1 = f1_score(y_true=y_val, y_pred=y_pred, average='weighted')\n",
    "    print(f\"C : {c:.3f}\\tAccuracy : {acc:.3f}\\tF1 Score : {f1:.3f}\")\n",
    "    ALL_MODELS.append(pd.Series({'C' : c, 'cv_score_fold1' : scores[0], 'cv_score_fold2' : scores[1], 'cv_score_fold3' : scores[2], 'cv_score_fold4' : scores[3], 'cv_score_fold5' : scores[4], 'mean' : scores.mean(), 'std' : scores.std(), 'accuracy' : acc, 'f1_score' : f1}))\n",
    "    if best_model['f1'] < f1:\n",
    "        best_model = {'C' : c, 'acc' : acc, 'f1' : f1, 'model' : copy.deepcopy(model)}\n",
    "\n",
    "y_pred = best_model['model'].predict(X_val)\n",
    "print(f\"Best Model based on Validation Accuracy : {best_model}\\nValidation Accuracy : {accuracy_score(y_true=y_val, y_pred=y_pred)}\\nTest F1-Score : {f1_score(y_true=y_val, y_pred=y_pred, average='weighted')}\")\n",
    "\n",
    "name = f\"logreg_{best_model['C']}_{best_model['acc']:.2f}_{best_model['f1']:.2f}\"\n",
    "pickle.dump(best_model['model'], open(os.path.join(models_path, name), 'wb'))\n",
    "\n",
    "result = pd.DataFrame(ALL_MODELS)\n",
    "result"
   ]
  },
  {
   "cell_type": "code",
   "execution_count": 65,
   "metadata": {},
   "outputs": [
    {
     "name": "stdout",
     "output_type": "stream",
     "text": [
      "0.8166431497120059\n"
     ]
    },
    {
     "data": {
      "text/plain": [
       "<sklearn.metrics._plot.roc_curve.RocCurveDisplay at 0x2682e5572e0>"
      ]
     },
     "execution_count": 65,
     "metadata": {},
     "output_type": "execute_result"
    },
    {
     "data": {
      "image/png": "[encoded data removed]",
      "text/plain": [
       "<Figure size 432x288 with 1 Axes>"
      ]
     },
     "metadata": {
      "needs_background": "light"
     },
     "output_type": "display_data"
    }
   ],
   "source": [
    "y_pred = best_model['model'].predict(X_val)\n",
    "print(roc_auc_score(y_true=y_val, y_score=y_pred))\n",
    "RocCurveDisplay.from_predictions(y_true=y_val, y_pred=y_pred, name=\"ROC Curve\")"
   ]
  },
  {
   "cell_type": "markdown",
   "metadata": {},
   "source": [
    "## Kernel SVM (Polynomial)"
   ]
  },
  {
   "cell_type": "code",
   "execution_count": null,
   "metadata": {},
   "outputs": [],
   "source": [
    "from sklearn.svm import SVC\n",
    "\n",
    "C = [0.001, 0.01, 0.1, 1, 10]\n",
    "ALL_MODELS = []\n",
    "\n",
    "best_model = {'C' : 0, 'acc' : 0, 'f1' : 0, 'model' : None}\n",
    "for c in C:\n",
    "    model = SVC(C=c, kernel='poly', class_weight='balanced')\n",
    "    scores = cross_val_score(model, X, y, cv=5)\n",
    "    model.fit(X_train, y_train)\n",
    "    y_pred = model.predict(X_val)\n",
    "    acc = accuracy_score(y_true=y_val, y_pred=y_pred)\n",
    "    f1 = f1_score(y_true=y_val, y_pred=y_pred, average='weighted')\n",
    "    print(f\"C : {c:.3f}\\tAccuracy : {acc:.3f}\\tF1 Score : {f1:.3f}\")\n",
    "    ALL_MODELS.append(pd.Series({'C' : c, 'cv_score_fold1' : scores[0], 'cv_score_fold2' : scores[1], 'cv_score_fold3' : scores[2], 'cv_score_fold4' : scores[3], 'cv_score_fold5' : scores[4], 'mean' : scores.mean(), 'std' : scores.std(), 'accuracy' : acc, 'f1_score' : f1}))\n",
    "    if best_model['f1'] < f1:\n",
    "        best_model = {'C' : c, 'acc' : acc, 'f1' : f1, 'model' : copy.deepcopy(model)}\n",
    "\n",
    "y_pred = best_model['model'].predict(X_val)\n",
    "print(f\"Best Model based on Validation Accuracy : {best_model}\\nValidation Accuracy : {accuracy_score(y_true=y_val, y_pred=y_pred)}\\nTest F1-Score : {f1_score(y_true=y_val, y_pred=y_pred, average='weighted')}\")\n",
    "\n",
    "name = f\"svm_poly_{best_model['C']}_{best_model['acc']:.2f}_{best_model['f1']:.2f}\"\n",
    "pickle.dump(best_model['model'], open(os.path.join(models_path, name), 'wb'))\n",
    "\n",
    "result = pd.DataFrame(ALL_MODELS)\n",
    "result"
   ]
  },
  {
   "cell_type": "code",
   "execution_count": 24,
   "metadata": {},
   "outputs": [
    {
     "data": {
      "text/html": [
       "<div>\n",
       "<style scoped>\n",
       "    .dataframe tbody tr th:only-of-type {\n",
       "        vertical-align: middle;\n",
       "    }\n",
       "\n",
       "    .dataframe tbody tr th {\n",
       "        vertical-align: top;\n",
       "    }\n",
       "\n",
       "    .dataframe thead th {\n",
       "        text-align: right;\n",
       "    }\n",
       "</style>\n",
       "<table border=\"1\" class=\"dataframe\">\n",
       "  <thead>\n",
       "    <tr style=\"text-align: right;\">\n",
       "      <th></th>\n",
       "      <th>C</th>\n",
       "      <th>cv_score_fold1</th>\n",
       "      <th>cv_score_fold2</th>\n",
       "      <th>cv_score_fold3</th>\n",
       "      <th>cv_score_fold4</th>\n",
       "      <th>cv_score_fold5</th>\n",
       "      <th>mean</th>\n",
       "      <th>std</th>\n",
       "      <th>accuracy</th>\n",
       "      <th>f1_score</th>\n",
       "    </tr>\n",
       "  </thead>\n",
       "  <tbody>\n",
       "    <tr>\n",
       "      <th>0</th>\n",
       "      <td>0.001</td>\n",
       "      <td>0.882008</td>\n",
       "      <td>0.881553</td>\n",
       "      <td>0.879451</td>\n",
       "      <td>0.874253</td>\n",
       "      <td>0.874806</td>\n",
       "      <td>0.878414</td>\n",
       "      <td>0.003292</td>\n",
       "      <td>0.897600</td>\n",
       "      <td>0.887315</td>\n",
       "    </tr>\n",
       "    <tr>\n",
       "      <th>1</th>\n",
       "      <td>0.010</td>\n",
       "      <td>0.880902</td>\n",
       "      <td>0.880889</td>\n",
       "      <td>0.877682</td>\n",
       "      <td>0.863747</td>\n",
       "      <td>0.863305</td>\n",
       "      <td>0.873305</td>\n",
       "      <td>0.008072</td>\n",
       "      <td>0.874820</td>\n",
       "      <td>0.884108</td>\n",
       "    </tr>\n",
       "    <tr>\n",
       "      <th>2</th>\n",
       "      <td>0.100</td>\n",
       "      <td>0.887980</td>\n",
       "      <td>0.888741</td>\n",
       "      <td>0.879341</td>\n",
       "      <td>0.861646</td>\n",
       "      <td>0.858438</td>\n",
       "      <td>0.875229</td>\n",
       "      <td>0.012872</td>\n",
       "      <td>0.847175</td>\n",
       "      <td>0.865838</td>\n",
       "    </tr>\n",
       "    <tr>\n",
       "      <th>3</th>\n",
       "      <td>1.000</td>\n",
       "      <td>0.907995</td>\n",
       "      <td>0.891396</td>\n",
       "      <td>0.883765</td>\n",
       "      <td>0.847047</td>\n",
       "      <td>0.849259</td>\n",
       "      <td>0.875892</td>\n",
       "      <td>0.023976</td>\n",
       "      <td>0.838217</td>\n",
       "      <td>0.859652</td>\n",
       "    </tr>\n",
       "    <tr>\n",
       "      <th>4</th>\n",
       "      <td>10.000</td>\n",
       "      <td>0.919053</td>\n",
       "      <td>0.890069</td>\n",
       "      <td>0.886419</td>\n",
       "      <td>0.810551</td>\n",
       "      <td>0.831343</td>\n",
       "      <td>0.867487</td>\n",
       "      <td>0.040189</td>\n",
       "      <td>0.836337</td>\n",
       "      <td>0.858536</td>\n",
       "    </tr>\n",
       "  </tbody>\n",
       "</table>\n",
       "</div>"
      ],
      "text/plain": [
       "        C  cv_score_fold1  cv_score_fold2  cv_score_fold3  cv_score_fold4  \\\n",
       "0   0.001        0.882008        0.881553        0.879451        0.874253   \n",
       "1   0.010        0.880902        0.880889        0.877682        0.863747   \n",
       "2   0.100        0.887980        0.888741        0.879341        0.861646   \n",
       "3   1.000        0.907995        0.891396        0.883765        0.847047   \n",
       "4  10.000        0.919053        0.890069        0.886419        0.810551   \n",
       "\n",
       "   cv_score_fold5      mean       std  accuracy  f1_score  \n",
       "0        0.874806  0.878414  0.003292  0.897600  0.887315  \n",
       "1        0.863305  0.873305  0.008072  0.874820  0.884108  \n",
       "2        0.858438  0.875229  0.012872  0.847175  0.865838  \n",
       "3        0.849259  0.875892  0.023976  0.838217  0.859652  \n",
       "4        0.831343  0.867487  0.040189  0.836337  0.858536  "
      ]
     },
     "execution_count": 24,
     "metadata": {},
     "output_type": "execute_result"
    }
   ],
   "source": [
    "name = f\"svm_poly_{best_model['C']}_{best_model['acc']:.2f}_{best_model['f1']:.2f}\"\n",
    "pickle.dump(best_model['model'], open(os.path.join(models_path, name), 'wb'))\n",
    "\n",
    "result = pd.DataFrame(ALL_MODELS)\n",
    "result"
   ]
  },
  {
   "cell_type": "code",
   "execution_count": 25,
   "metadata": {},
   "outputs": [
    {
     "name": "stdout",
     "output_type": "stream",
     "text": [
      "0.6673107067279163\n"
     ]
    },
    {
     "data": {
      "text/plain": [
       "<sklearn.metrics._plot.roc_curve.RocCurveDisplay at 0x1b5ddfb8550>"
      ]
     },
     "execution_count": 25,
     "metadata": {},
     "output_type": "execute_result"
    },
    {
     "data": {
      "image/png": "[encoded data removed]",
      "text/plain": [
       "<Figure size 432x288 with 1 Axes>"
      ]
     },
     "metadata": {
      "needs_background": "light"
     },
     "output_type": "display_data"
    }
   ],
   "source": [
    "y_pred = best_model['model'].predict(X_val)\n",
    "print(roc_auc_score(y_true=y_val, y_score=y_pred))\n",
    "RocCurveDisplay.from_predictions(y_true=y_val, y_pred=y_pred, name=\"ROC Curve\")"
   ]
  },
  {
   "cell_type": "markdown",
   "metadata": {},
   "source": [
    "## Kernel SVM (RBF)"
   ]
  },
  {
   "cell_type": "code",
   "execution_count": 22,
   "metadata": {},
   "outputs": [
    {
     "name": "stdout",
     "output_type": "stream",
     "text": [
      "Best Model based on Validation Accuracy : {'C': 10, 'acc': 0.8355634192192857, 'f1': 0.8576250951366612, 'model': SVC(C=10, class_weight='balanced')}\n",
      "Validation Accuracy : 0.8355634192192857\n",
      "Test F1-Score : 0.8576250951366612\n"
     ]
    },
    {
     "data": {
      "text/html": [
       "<div>\n",
       "<style scoped>\n",
       "    .dataframe tbody tr th:only-of-type {\n",
       "        vertical-align: middle;\n",
       "    }\n",
       "\n",
       "    .dataframe tbody tr th {\n",
       "        vertical-align: top;\n",
       "    }\n",
       "\n",
       "    .dataframe thead th {\n",
       "        text-align: right;\n",
       "    }\n",
       "</style>\n",
       "<table border=\"1\" class=\"dataframe\">\n",
       "  <thead>\n",
       "    <tr style=\"text-align: right;\">\n",
       "      <th></th>\n",
       "      <th>C</th>\n",
       "      <th>cv_score_fold1</th>\n",
       "      <th>cv_score_fold2</th>\n",
       "      <th>cv_score_fold3</th>\n",
       "      <th>cv_score_fold4</th>\n",
       "      <th>cv_score_fold5</th>\n",
       "      <th>mean</th>\n",
       "      <th>std</th>\n",
       "      <th>accuracy</th>\n",
       "      <th>f1_score</th>\n",
       "    </tr>\n",
       "  </thead>\n",
       "  <tbody>\n",
       "    <tr>\n",
       "      <th>0</th>\n",
       "      <td>0.001</td>\n",
       "      <td>0.771757</td>\n",
       "      <td>0.771843</td>\n",
       "      <td>0.737669</td>\n",
       "      <td>0.690445</td>\n",
       "      <td>0.737669</td>\n",
       "      <td>0.741876</td>\n",
       "      <td>0.029905</td>\n",
       "      <td>0.732058</td>\n",
       "      <td>0.779582</td>\n",
       "    </tr>\n",
       "    <tr>\n",
       "      <th>1</th>\n",
       "      <td>0.010</td>\n",
       "      <td>0.776180</td>\n",
       "      <td>0.772285</td>\n",
       "      <td>0.762553</td>\n",
       "      <td>0.688564</td>\n",
       "      <td>0.739328</td>\n",
       "      <td>0.747782</td>\n",
       "      <td>0.032259</td>\n",
       "      <td>0.802610</td>\n",
       "      <td>0.833967</td>\n",
       "    </tr>\n",
       "    <tr>\n",
       "      <th>2</th>\n",
       "      <td>0.100</td>\n",
       "      <td>0.808471</td>\n",
       "      <td>0.806016</td>\n",
       "      <td>0.844282</td>\n",
       "      <td>0.732250</td>\n",
       "      <td>0.718978</td>\n",
       "      <td>0.781999</td>\n",
       "      <td>0.048173</td>\n",
       "      <td>0.813668</td>\n",
       "      <td>0.842732</td>\n",
       "    </tr>\n",
       "    <tr>\n",
       "      <th>3</th>\n",
       "      <td>1.000</td>\n",
       "      <td>0.812230</td>\n",
       "      <td>0.796395</td>\n",
       "      <td>0.846715</td>\n",
       "      <td>0.704048</td>\n",
       "      <td>0.647091</td>\n",
       "      <td>0.761296</td>\n",
       "      <td>0.074085</td>\n",
       "      <td>0.820303</td>\n",
       "      <td>0.847588</td>\n",
       "    </tr>\n",
       "    <tr>\n",
       "      <th>4</th>\n",
       "      <td>10.000</td>\n",
       "      <td>0.814332</td>\n",
       "      <td>0.790312</td>\n",
       "      <td>0.829684</td>\n",
       "      <td>0.648640</td>\n",
       "      <td>0.655607</td>\n",
       "      <td>0.747715</td>\n",
       "      <td>0.079083</td>\n",
       "      <td>0.835563</td>\n",
       "      <td>0.857625</td>\n",
       "    </tr>\n",
       "  </tbody>\n",
       "</table>\n",
       "</div>"
      ],
      "text/plain": [
       "        C  cv_score_fold1  cv_score_fold2  cv_score_fold3  cv_score_fold4  \\\n",
       "0   0.001        0.771757        0.771843        0.737669        0.690445   \n",
       "1   0.010        0.776180        0.772285        0.762553        0.688564   \n",
       "2   0.100        0.808471        0.806016        0.844282        0.732250   \n",
       "3   1.000        0.812230        0.796395        0.846715        0.704048   \n",
       "4  10.000        0.814332        0.790312        0.829684        0.648640   \n",
       "\n",
       "   cv_score_fold5      mean       std  accuracy  f1_score  \n",
       "0        0.737669  0.741876  0.029905  0.732058  0.779582  \n",
       "1        0.739328  0.747782  0.032259  0.802610  0.833967  \n",
       "2        0.718978  0.781999  0.048173  0.813668  0.842732  \n",
       "3        0.647091  0.761296  0.074085  0.820303  0.847588  \n",
       "4        0.655607  0.747715  0.079083  0.835563  0.857625  "
      ]
     },
     "execution_count": 22,
     "metadata": {},
     "output_type": "execute_result"
    }
   ],
   "source": [
    "from sklearn.svm import SVC\n",
    "\n",
    "C = [0.001, 0.01, 0.1, 1, 10]\n",
    "ALL_MODELS = []\n",
    "\n",
    "best_model = {'C' : 0, 'acc' : 0, 'f1' : 0, 'model' : None}\n",
    "for c in C:\n",
    "    model = SVC(C=c, kernel='rbf', class_weight='balanced')\n",
    "    scores = cross_val_score(model, X, y, cv=5)\n",
    "    model.fit(X_train, y_train)\n",
    "    y_pred = model.predict(X_val)\n",
    "    acc = accuracy_score(y_true=y_val, y_pred=y_pred)\n",
    "    f1 = f1_score(y_true=y_val, y_pred=y_pred, average='weighted')\n",
    "    #print(f\"C : {c:.3f}\\tAccuracy : {acc:.3f}\\tF1 Score : {f1:.3f}\")\n",
    "    ALL_MODELS.append(pd.Series({'C' : c, 'cv_score_fold1' : scores[0], 'cv_score_fold2' : scores[1], 'cv_score_fold3' : scores[2], 'cv_score_fold4' : scores[3], 'cv_score_fold5' : scores[4], 'mean' : scores.mean(), 'std' : scores.std(), 'accuracy' : acc, 'f1_score' : f1}))\n",
    "    if best_model['f1'] < f1:\n",
    "        best_model = {'C' : c, 'acc' : acc, 'f1' : f1, 'model' : copy.deepcopy(model)}\n",
    "\n",
    "y_pred = best_model['model'].predict(X_val)\n",
    "print(f\"Best Model based on Validation Accuracy : {best_model}\\nValidation Accuracy : {accuracy_score(y_true=y_val, y_pred=y_pred)}\\nTest F1-Score : {f1_score(y_true=y_val, y_pred=y_pred, average='weighted')}\")\n",
    "\n",
    "name = f\"svm_rbf_{best_model['C']}_{best_model['acc']:.2f}_{best_model['f1']:.2f}\"\n",
    "pickle.dump(best_model['model'], open(os.path.join(models_path, name), 'wb'))\n",
    "\n",
    "result = pd.DataFrame(ALL_MODELS)\n",
    "result"
   ]
  },
  {
   "cell_type": "code",
   "execution_count": 23,
   "metadata": {},
   "outputs": [
    {
     "name": "stdout",
     "output_type": "stream",
     "text": [
      "AUC Score : 0.813\n"
     ]
    },
    {
     "data": {
      "text/plain": [
       "<sklearn.metrics._plot.roc_curve.RocCurveDisplay at 0x168b785c160>"
      ]
     },
     "execution_count": 23,
     "metadata": {},
     "output_type": "execute_result"
    },
    {
     "data": {
      "image/png": "[encoded data removed]",
      "text/plain": [
       "<Figure size 432x288 with 1 Axes>"
      ]
     },
     "metadata": {
      "needs_background": "light"
     },
     "output_type": "display_data"
    }
   ],
   "source": [
    "y_pred = best_model['model'].predict(X_val)\n",
    "print(f\"AUC Score : {roc_auc_score(y_true=y_val, y_score=y_pred):.3f}\")\n",
    "RocCurveDisplay.from_predictions(y_true=y_val, y_pred=y_pred, name=\"ROC Curve\")"
   ]
  },
  {
   "cell_type": "markdown",
   "metadata": {},
   "source": [
    "## Linear SVM"
   ]
  },
  {
   "cell_type": "code",
   "execution_count": 24,
   "metadata": {},
   "outputs": [
    {
     "name": "stderr",
     "output_type": "stream",
     "text": [
      "c:\\Users\\ayana\\AppData\\Local\\Programs\\Python\\Python310\\lib\\site-packages\\sklearn\\svm\\_base.py:1206: ConvergenceWarning: Liblinear failed to converge, increase the number of iterations.\n",
      "  warnings.warn(\n",
      "c:\\Users\\ayana\\AppData\\Local\\Programs\\Python\\Python310\\lib\\site-packages\\sklearn\\svm\\_base.py:1206: ConvergenceWarning: Liblinear failed to converge, increase the number of iterations.\n",
      "  warnings.warn(\n",
      "c:\\Users\\ayana\\AppData\\Local\\Programs\\Python\\Python310\\lib\\site-packages\\sklearn\\svm\\_base.py:1206: ConvergenceWarning: Liblinear failed to converge, increase the number of iterations.\n",
      "  warnings.warn(\n",
      "c:\\Users\\ayana\\AppData\\Local\\Programs\\Python\\Python310\\lib\\site-packages\\sklearn\\svm\\_base.py:1206: ConvergenceWarning: Liblinear failed to converge, increase the number of iterations.\n",
      "  warnings.warn(\n",
      "c:\\Users\\ayana\\AppData\\Local\\Programs\\Python\\Python310\\lib\\site-packages\\sklearn\\svm\\_base.py:1206: ConvergenceWarning: Liblinear failed to converge, increase the number of iterations.\n",
      "  warnings.warn(\n",
      "c:\\Users\\ayana\\AppData\\Local\\Programs\\Python\\Python310\\lib\\site-packages\\sklearn\\svm\\_base.py:1206: ConvergenceWarning: Liblinear failed to converge, increase the number of iterations.\n",
      "  warnings.warn(\n",
      "c:\\Users\\ayana\\AppData\\Local\\Programs\\Python\\Python310\\lib\\site-packages\\sklearn\\svm\\_base.py:1206: ConvergenceWarning: Liblinear failed to converge, increase the number of iterations.\n",
      "  warnings.warn(\n",
      "c:\\Users\\ayana\\AppData\\Local\\Programs\\Python\\Python310\\lib\\site-packages\\sklearn\\svm\\_base.py:1206: ConvergenceWarning: Liblinear failed to converge, increase the number of iterations.\n",
      "  warnings.warn(\n",
      "c:\\Users\\ayana\\AppData\\Local\\Programs\\Python\\Python310\\lib\\site-packages\\sklearn\\svm\\_base.py:1206: ConvergenceWarning: Liblinear failed to converge, increase the number of iterations.\n",
      "  warnings.warn(\n",
      "c:\\Users\\ayana\\AppData\\Local\\Programs\\Python\\Python310\\lib\\site-packages\\sklearn\\svm\\_base.py:1206: ConvergenceWarning: Liblinear failed to converge, increase the number of iterations.\n",
      "  warnings.warn(\n",
      "c:\\Users\\ayana\\AppData\\Local\\Programs\\Python\\Python310\\lib\\site-packages\\sklearn\\svm\\_base.py:1206: ConvergenceWarning: Liblinear failed to converge, increase the number of iterations.\n",
      "  warnings.warn(\n",
      "c:\\Users\\ayana\\AppData\\Local\\Programs\\Python\\Python310\\lib\\site-packages\\sklearn\\svm\\_base.py:1206: ConvergenceWarning: Liblinear failed to converge, increase the number of iterations.\n",
      "  warnings.warn(\n",
      "c:\\Users\\ayana\\AppData\\Local\\Programs\\Python\\Python310\\lib\\site-packages\\sklearn\\svm\\_base.py:1206: ConvergenceWarning: Liblinear failed to converge, increase the number of iterations.\n",
      "  warnings.warn(\n",
      "c:\\Users\\ayana\\AppData\\Local\\Programs\\Python\\Python310\\lib\\site-packages\\sklearn\\svm\\_base.py:1206: ConvergenceWarning: Liblinear failed to converge, increase the number of iterations.\n",
      "  warnings.warn(\n",
      "c:\\Users\\ayana\\AppData\\Local\\Programs\\Python\\Python310\\lib\\site-packages\\sklearn\\svm\\_base.py:1206: ConvergenceWarning: Liblinear failed to converge, increase the number of iterations.\n",
      "  warnings.warn(\n",
      "c:\\Users\\ayana\\AppData\\Local\\Programs\\Python\\Python310\\lib\\site-packages\\sklearn\\svm\\_base.py:1206: ConvergenceWarning: Liblinear failed to converge, increase the number of iterations.\n",
      "  warnings.warn(\n",
      "c:\\Users\\ayana\\AppData\\Local\\Programs\\Python\\Python310\\lib\\site-packages\\sklearn\\svm\\_base.py:1206: ConvergenceWarning: Liblinear failed to converge, increase the number of iterations.\n",
      "  warnings.warn(\n",
      "c:\\Users\\ayana\\AppData\\Local\\Programs\\Python\\Python310\\lib\\site-packages\\sklearn\\svm\\_base.py:1206: ConvergenceWarning: Liblinear failed to converge, increase the number of iterations.\n",
      "  warnings.warn(\n",
      "c:\\Users\\ayana\\AppData\\Local\\Programs\\Python\\Python310\\lib\\site-packages\\sklearn\\svm\\_base.py:1206: ConvergenceWarning: Liblinear failed to converge, increase the number of iterations.\n",
      "  warnings.warn(\n",
      "c:\\Users\\ayana\\AppData\\Local\\Programs\\Python\\Python310\\lib\\site-packages\\sklearn\\svm\\_base.py:1206: ConvergenceWarning: Liblinear failed to converge, increase the number of iterations.\n",
      "  warnings.warn(\n",
      "c:\\Users\\ayana\\AppData\\Local\\Programs\\Python\\Python310\\lib\\site-packages\\sklearn\\svm\\_base.py:1206: ConvergenceWarning: Liblinear failed to converge, increase the number of iterations.\n",
      "  warnings.warn(\n",
      "c:\\Users\\ayana\\AppData\\Local\\Programs\\Python\\Python310\\lib\\site-packages\\sklearn\\svm\\_base.py:1206: ConvergenceWarning: Liblinear failed to converge, increase the number of iterations.\n",
      "  warnings.warn(\n",
      "c:\\Users\\ayana\\AppData\\Local\\Programs\\Python\\Python310\\lib\\site-packages\\sklearn\\svm\\_base.py:1206: ConvergenceWarning: Liblinear failed to converge, increase the number of iterations.\n",
      "  warnings.warn(\n",
      "c:\\Users\\ayana\\AppData\\Local\\Programs\\Python\\Python310\\lib\\site-packages\\sklearn\\svm\\_base.py:1206: ConvergenceWarning: Liblinear failed to converge, increase the number of iterations.\n",
      "  warnings.warn(\n",
      "c:\\Users\\ayana\\AppData\\Local\\Programs\\Python\\Python310\\lib\\site-packages\\sklearn\\svm\\_base.py:1206: ConvergenceWarning: Liblinear failed to converge, increase the number of iterations.\n",
      "  warnings.warn(\n",
      "c:\\Users\\ayana\\AppData\\Local\\Programs\\Python\\Python310\\lib\\site-packages\\sklearn\\svm\\_base.py:1206: ConvergenceWarning: Liblinear failed to converge, increase the number of iterations.\n",
      "  warnings.warn(\n",
      "c:\\Users\\ayana\\AppData\\Local\\Programs\\Python\\Python310\\lib\\site-packages\\sklearn\\svm\\_base.py:1206: ConvergenceWarning: Liblinear failed to converge, increase the number of iterations.\n",
      "  warnings.warn(\n",
      "c:\\Users\\ayana\\AppData\\Local\\Programs\\Python\\Python310\\lib\\site-packages\\sklearn\\svm\\_base.py:1206: ConvergenceWarning: Liblinear failed to converge, increase the number of iterations.\n",
      "  warnings.warn(\n"
     ]
    },
    {
     "name": "stdout",
     "output_type": "stream",
     "text": [
      "Best Model based on Validation Accuracy : {'C': 10, 'acc': 0.8553577352648457, 'f1': 0.8707695093143715, 'model': LinearSVC(C=10, class_weight='balanced')}\n",
      "Validation Accuracy : 0.8553577352648457\n",
      "Test F1-Score : 0.8707695093143715\n"
     ]
    },
    {
     "name": "stderr",
     "output_type": "stream",
     "text": [
      "c:\\Users\\ayana\\AppData\\Local\\Programs\\Python\\Python310\\lib\\site-packages\\sklearn\\svm\\_base.py:1206: ConvergenceWarning: Liblinear failed to converge, increase the number of iterations.\n",
      "  warnings.warn(\n"
     ]
    },
    {
     "data": {
      "text/html": [
       "<div>\n",
       "<style scoped>\n",
       "    .dataframe tbody tr th:only-of-type {\n",
       "        vertical-align: middle;\n",
       "    }\n",
       "\n",
       "    .dataframe tbody tr th {\n",
       "        vertical-align: top;\n",
       "    }\n",
       "\n",
       "    .dataframe thead th {\n",
       "        text-align: right;\n",
       "    }\n",
       "</style>\n",
       "<table border=\"1\" class=\"dataframe\">\n",
       "  <thead>\n",
       "    <tr style=\"text-align: right;\">\n",
       "      <th></th>\n",
       "      <th>C</th>\n",
       "      <th>cv_score_fold1</th>\n",
       "      <th>cv_score_fold2</th>\n",
       "      <th>cv_score_fold3</th>\n",
       "      <th>cv_score_fold4</th>\n",
       "      <th>cv_score_fold5</th>\n",
       "      <th>mean</th>\n",
       "      <th>std</th>\n",
       "      <th>accuracy</th>\n",
       "      <th>f1_score</th>\n",
       "    </tr>\n",
       "  </thead>\n",
       "  <tbody>\n",
       "    <tr>\n",
       "      <th>0</th>\n",
       "      <td>0.001</td>\n",
       "      <td>0.902134</td>\n",
       "      <td>0.880889</td>\n",
       "      <td>0.888078</td>\n",
       "      <td>0.621986</td>\n",
       "      <td>0.857554</td>\n",
       "      <td>0.830128</td>\n",
       "      <td>0.105067</td>\n",
       "      <td>0.822625</td>\n",
       "      <td>0.848022</td>\n",
       "    </tr>\n",
       "    <tr>\n",
       "      <th>1</th>\n",
       "      <td>0.010</td>\n",
       "      <td>0.904899</td>\n",
       "      <td>0.719199</td>\n",
       "      <td>0.883101</td>\n",
       "      <td>0.190998</td>\n",
       "      <td>0.871157</td>\n",
       "      <td>0.713871</td>\n",
       "      <td>0.269553</td>\n",
       "      <td>0.824284</td>\n",
       "      <td>0.849211</td>\n",
       "    </tr>\n",
       "    <tr>\n",
       "      <th>2</th>\n",
       "      <td>0.100</td>\n",
       "      <td>0.882782</td>\n",
       "      <td>0.884096</td>\n",
       "      <td>0.216434</td>\n",
       "      <td>0.542690</td>\n",
       "      <td>0.885534</td>\n",
       "      <td>0.682307</td>\n",
       "      <td>0.267858</td>\n",
       "      <td>0.824505</td>\n",
       "      <td>0.849401</td>\n",
       "    </tr>\n",
       "    <tr>\n",
       "      <th>3</th>\n",
       "      <td>1.000</td>\n",
       "      <td>0.883114</td>\n",
       "      <td>0.765760</td>\n",
       "      <td>0.887525</td>\n",
       "      <td>0.845941</td>\n",
       "      <td>0.882659</td>\n",
       "      <td>0.853000</td>\n",
       "      <td>0.046128</td>\n",
       "      <td>0.823842</td>\n",
       "      <td>0.848854</td>\n",
       "    </tr>\n",
       "    <tr>\n",
       "      <th>4</th>\n",
       "      <td>10.000</td>\n",
       "      <td>0.875484</td>\n",
       "      <td>0.835213</td>\n",
       "      <td>0.700288</td>\n",
       "      <td>0.847158</td>\n",
       "      <td>0.720969</td>\n",
       "      <td>0.795822</td>\n",
       "      <td>0.071081</td>\n",
       "      <td>0.855358</td>\n",
       "      <td>0.870770</td>\n",
       "    </tr>\n",
       "  </tbody>\n",
       "</table>\n",
       "</div>"
      ],
      "text/plain": [
       "        C  cv_score_fold1  cv_score_fold2  cv_score_fold3  cv_score_fold4  \\\n",
       "0   0.001        0.902134        0.880889        0.888078        0.621986   \n",
       "1   0.010        0.904899        0.719199        0.883101        0.190998   \n",
       "2   0.100        0.882782        0.884096        0.216434        0.542690   \n",
       "3   1.000        0.883114        0.765760        0.887525        0.845941   \n",
       "4  10.000        0.875484        0.835213        0.700288        0.847158   \n",
       "\n",
       "   cv_score_fold5      mean       std  accuracy  f1_score  \n",
       "0        0.857554  0.830128  0.105067  0.822625  0.848022  \n",
       "1        0.871157  0.713871  0.269553  0.824284  0.849211  \n",
       "2        0.885534  0.682307  0.267858  0.824505  0.849401  \n",
       "3        0.882659  0.853000  0.046128  0.823842  0.848854  \n",
       "4        0.720969  0.795822  0.071081  0.855358  0.870770  "
      ]
     },
     "execution_count": 24,
     "metadata": {},
     "output_type": "execute_result"
    }
   ],
   "source": [
    "from sklearn.svm import LinearSVC\n",
    "\n",
    "C = [0.001, 0.01, 0.1, 1, 10]\n",
    "ALL_MODELS = []\n",
    "\n",
    "best_model = {'C' : 0, 'acc' : 0, 'f1' : 0, 'model' : None}\n",
    "for c in C:\n",
    "    model = LinearSVC(C=c, class_weight='balanced')\n",
    "    scores = cross_val_score(model, X, y, cv=5)\n",
    "    model.fit(X_train, y_train)\n",
    "    y_pred = model.predict(X_val)\n",
    "    acc = accuracy_score(y_true=y_val, y_pred=y_pred)\n",
    "    f1 = f1_score(y_true=y_val, y_pred=y_pred, average='weighted')\n",
    "    #print(f\"C : {c:.3f}\\tAccuracy : {acc:.3f}\\tF1 Score : {f1:.3f}\")\n",
    "    ALL_MODELS.append(pd.Series({'C' : c, 'cv_score_fold1' : scores[0], 'cv_score_fold2' : scores[1], 'cv_score_fold3' : scores[2], 'cv_score_fold4' : scores[3], 'cv_score_fold5' : scores[4], 'mean' : scores.mean(), 'std' : scores.std(), 'accuracy' : acc, 'f1_score' : f1}))\n",
    "    if best_model['f1'] < f1:\n",
    "        best_model = {'C' : c, 'acc' : acc, 'f1' : f1, 'model' : copy.deepcopy(model)}\n",
    "\n",
    "y_pred = best_model['model'].predict(X_val)\n",
    "print(f\"Best Model based on Validation Accuracy : {best_model}\\nValidation Accuracy : {accuracy_score(y_true=y_val, y_pred=y_pred)}\\nTest F1-Score : {f1_score(y_true=y_val, y_pred=y_pred, average='weighted')}\")\n",
    "\n",
    "name = f\"svm_linear_{best_model['C']}_{best_model['acc']:.2f}_{best_model['f1']:.2f}\"\n",
    "pickle.dump(best_model['model'], open(os.path.join(models_path, name), 'wb'))\n",
    "\n",
    "result = pd.DataFrame(ALL_MODELS)\n",
    "result"
   ]
  },
  {
   "cell_type": "code",
   "execution_count": 25,
   "metadata": {},
   "outputs": [
    {
     "name": "stdout",
     "output_type": "stream",
     "text": [
      "AUC Score : 0.793\n"
     ]
    },
    {
     "data": {
      "text/plain": [
       "<sklearn.metrics._plot.roc_curve.RocCurveDisplay at 0x168b7650af0>"
      ]
     },
     "execution_count": 25,
     "metadata": {},
     "output_type": "execute_result"
    },
    {
     "data": {
      "image/png": "[encoded data removed]",
      "text/plain": [
       "<Figure size 432x288 with 1 Axes>"
      ]
     },
     "metadata": {
      "needs_background": "light"
     },
     "output_type": "display_data"
    }
   ],
   "source": [
    "y_pred = best_model['model'].predict(X_val)\n",
    "print(f\"AUC Score : {roc_auc_score(y_true=y_val, y_score=y_pred):.3f}\")\n",
    "RocCurveDisplay.from_predictions(y_true=y_val, y_pred=y_pred, name=\"ROC Curve\")"
   ]
  },
  {
   "cell_type": "markdown",
   "metadata": {},
   "source": [
    "## Decision Tree"
   ]
  },
  {
   "cell_type": "code",
   "execution_count": 26,
   "metadata": {},
   "outputs": [
    {
     "name": "stdout",
     "output_type": "stream",
     "text": [
      "Best Model based on Validation Accuracy : {'depth': 8, 'acc': 0.9016919163994249, 'f1': 0.8985275975658432, 'model': DecisionTreeClassifier(max_depth=8)}\n",
      "Validation Accuracy : 0.9016919163994249\n",
      "Test F1-Score : 0.8985275975658432\n"
     ]
    },
    {
     "data": {
      "text/html": [
       "<div>\n",
       "<style scoped>\n",
       "    .dataframe tbody tr th:only-of-type {\n",
       "        vertical-align: middle;\n",
       "    }\n",
       "\n",
       "    .dataframe tbody tr th {\n",
       "        vertical-align: top;\n",
       "    }\n",
       "\n",
       "    .dataframe thead th {\n",
       "        text-align: right;\n",
       "    }\n",
       "</style>\n",
       "<table border=\"1\" class=\"dataframe\">\n",
       "  <thead>\n",
       "    <tr style=\"text-align: right;\">\n",
       "      <th></th>\n",
       "      <th>depth</th>\n",
       "      <th>cv_score_fold1</th>\n",
       "      <th>cv_score_fold2</th>\n",
       "      <th>cv_score_fold3</th>\n",
       "      <th>cv_score_fold4</th>\n",
       "      <th>cv_score_fold5</th>\n",
       "      <th>mean</th>\n",
       "      <th>std</th>\n",
       "      <th>accuracy</th>\n",
       "      <th>f1_score</th>\n",
       "    </tr>\n",
       "  </thead>\n",
       "  <tbody>\n",
       "    <tr>\n",
       "      <th>0</th>\n",
       "      <td>1.0</td>\n",
       "      <td>0.883003</td>\n",
       "      <td>0.883101</td>\n",
       "      <td>0.882990</td>\n",
       "      <td>0.882990</td>\n",
       "      <td>0.882990</td>\n",
       "      <td>0.883015</td>\n",
       "      <td>0.000043</td>\n",
       "      <td>0.886984</td>\n",
       "      <td>0.833861</td>\n",
       "    </tr>\n",
       "    <tr>\n",
       "      <th>1</th>\n",
       "      <td>2.0</td>\n",
       "      <td>0.883003</td>\n",
       "      <td>0.884428</td>\n",
       "      <td>0.870714</td>\n",
       "      <td>0.398142</td>\n",
       "      <td>0.873369</td>\n",
       "      <td>0.781931</td>\n",
       "      <td>0.191968</td>\n",
       "      <td>0.890412</td>\n",
       "      <td>0.887267</td>\n",
       "    </tr>\n",
       "    <tr>\n",
       "      <th>2</th>\n",
       "      <td>3.0</td>\n",
       "      <td>0.883003</td>\n",
       "      <td>0.809113</td>\n",
       "      <td>0.883212</td>\n",
       "      <td>0.396483</td>\n",
       "      <td>0.832780</td>\n",
       "      <td>0.760918</td>\n",
       "      <td>0.184478</td>\n",
       "      <td>0.900476</td>\n",
       "      <td>0.887109</td>\n",
       "    </tr>\n",
       "    <tr>\n",
       "      <th>3</th>\n",
       "      <td>4.0</td>\n",
       "      <td>0.883114</td>\n",
       "      <td>0.800708</td>\n",
       "      <td>0.871489</td>\n",
       "      <td>0.537602</td>\n",
       "      <td>0.809666</td>\n",
       "      <td>0.780516</td>\n",
       "      <td>0.125751</td>\n",
       "      <td>0.900476</td>\n",
       "      <td>0.887261</td>\n",
       "    </tr>\n",
       "    <tr>\n",
       "      <th>4</th>\n",
       "      <td>5.0</td>\n",
       "      <td>0.883003</td>\n",
       "      <td>0.802367</td>\n",
       "      <td>0.716656</td>\n",
       "      <td>0.445587</td>\n",
       "      <td>0.721522</td>\n",
       "      <td>0.713827</td>\n",
       "      <td>0.147295</td>\n",
       "      <td>0.901802</td>\n",
       "      <td>0.893772</td>\n",
       "    </tr>\n",
       "    <tr>\n",
       "      <th>5</th>\n",
       "      <td>6.0</td>\n",
       "      <td>0.883003</td>\n",
       "      <td>0.829352</td>\n",
       "      <td>0.831785</td>\n",
       "      <td>0.528091</td>\n",
       "      <td>0.719420</td>\n",
       "      <td>0.758330</td>\n",
       "      <td>0.126891</td>\n",
       "      <td>0.900807</td>\n",
       "      <td>0.894109</td>\n",
       "    </tr>\n",
       "    <tr>\n",
       "      <th>6</th>\n",
       "      <td>7.0</td>\n",
       "      <td>0.889528</td>\n",
       "      <td>0.805685</td>\n",
       "      <td>0.838974</td>\n",
       "      <td>0.457863</td>\n",
       "      <td>0.720305</td>\n",
       "      <td>0.742471</td>\n",
       "      <td>0.152596</td>\n",
       "      <td>0.899149</td>\n",
       "      <td>0.890263</td>\n",
       "    </tr>\n",
       "    <tr>\n",
       "      <th>7</th>\n",
       "      <td>8.0</td>\n",
       "      <td>0.881676</td>\n",
       "      <td>0.812984</td>\n",
       "      <td>0.816412</td>\n",
       "      <td>0.474453</td>\n",
       "      <td>0.491705</td>\n",
       "      <td>0.695446</td>\n",
       "      <td>0.175202</td>\n",
       "      <td>0.901692</td>\n",
       "      <td>0.898528</td>\n",
       "    </tr>\n",
       "    <tr>\n",
       "      <th>8</th>\n",
       "      <td>9.0</td>\n",
       "      <td>0.882119</td>\n",
       "      <td>0.815970</td>\n",
       "      <td>0.816191</td>\n",
       "      <td>0.499558</td>\n",
       "      <td>0.499005</td>\n",
       "      <td>0.702568</td>\n",
       "      <td>0.167726</td>\n",
       "      <td>0.900476</td>\n",
       "      <td>0.895583</td>\n",
       "    </tr>\n",
       "    <tr>\n",
       "      <th>9</th>\n",
       "      <td>10.0</td>\n",
       "      <td>0.884773</td>\n",
       "      <td>0.788542</td>\n",
       "      <td>0.815085</td>\n",
       "      <td>0.479208</td>\n",
       "      <td>0.497346</td>\n",
       "      <td>0.692991</td>\n",
       "      <td>0.170175</td>\n",
       "      <td>0.895720</td>\n",
       "      <td>0.892624</td>\n",
       "    </tr>\n",
       "  </tbody>\n",
       "</table>\n",
       "</div>"
      ],
      "text/plain": [
       "   depth  cv_score_fold1  cv_score_fold2  cv_score_fold3  cv_score_fold4  \\\n",
       "0    1.0        0.883003        0.883101        0.882990        0.882990   \n",
       "1    2.0        0.883003        0.884428        0.870714        0.398142   \n",
       "2    3.0        0.883003        0.809113        0.883212        0.396483   \n",
       "3    4.0        0.883114        0.800708        0.871489        0.537602   \n",
       "4    5.0        0.883003        0.802367        0.716656        0.445587   \n",
       "5    6.0        0.883003        0.829352        0.831785        0.528091   \n",
       "6    7.0        0.889528        0.805685        0.838974        0.457863   \n",
       "7    8.0        0.881676        0.812984        0.816412        0.474453   \n",
       "8    9.0        0.882119        0.815970        0.816191        0.499558   \n",
       "9   10.0        0.884773        0.788542        0.815085        0.479208   \n",
       "\n",
       "   cv_score_fold5      mean       std  accuracy  f1_score  \n",
       "0        0.882990  0.883015  0.000043  0.886984  0.833861  \n",
       "1        0.873369  0.781931  0.191968  0.890412  0.887267  \n",
       "2        0.832780  0.760918  0.184478  0.900476  0.887109  \n",
       "3        0.809666  0.780516  0.125751  0.900476  0.887261  \n",
       "4        0.721522  0.713827  0.147295  0.901802  0.893772  \n",
       "5        0.719420  0.758330  0.126891  0.900807  0.894109  \n",
       "6        0.720305  0.742471  0.152596  0.899149  0.890263  \n",
       "7        0.491705  0.695446  0.175202  0.901692  0.898528  \n",
       "8        0.499005  0.702568  0.167726  0.900476  0.895583  \n",
       "9        0.497346  0.692991  0.170175  0.895720  0.892624  "
      ]
     },
     "execution_count": 26,
     "metadata": {},
     "output_type": "execute_result"
    }
   ],
   "source": [
    "from sklearn.tree import DecisionTreeClassifier\n",
    "\n",
    "best_model = {'depth' : 0, 'acc' : 0, 'f1' : 0, 'model' : None}\n",
    "ALL_MODELS = []\n",
    "\n",
    "for i in range(1, 11):\n",
    "    model = DecisionTreeClassifier(max_depth=i)\n",
    "    scores = cross_val_score(model, X, y, cv=5)\n",
    "    model.fit(X_train, y_train)\n",
    "    y_pred = model.predict(X_val)\n",
    "    acc = accuracy_score(y_true=y_val, y_pred=y_pred)\n",
    "    f1 = f1_score(y_true=y_val, y_pred=y_pred, average='weighted')\n",
    "    #print(f\"Depth : {c:.3f}\\tAccuracy : {acc:.3f}\\tF1 Score : {f1:.3f}\")\n",
    "    ALL_MODELS.append(pd.Series({'depth' : i, 'cv_score_fold1' : scores[0], 'cv_score_fold2' : scores[1], 'cv_score_fold3' : scores[2], 'cv_score_fold4' : scores[3], 'cv_score_fold5' : scores[4], 'mean' : scores.mean(), 'std' : scores.std(), 'accuracy' : acc, 'f1_score' : f1}))\n",
    "    if best_model['f1'] < f1:\n",
    "        best_model = {'depth' : i, 'acc' : acc, 'f1' : f1, 'model' : copy.deepcopy(model)}\n",
    "\n",
    "y_pred = best_model['model'].predict(X_val)\n",
    "print(f\"Best Model based on Validation Accuracy : {best_model}\\nValidation Accuracy : {accuracy_score(y_true=y_val, y_pred=y_pred)}\\nTest F1-Score : {f1_score(y_true=y_val, y_pred=y_pred, average='weighted')}\")\n",
    "\n",
    "name = f\"dtree_{best_model['depth']}_{best_model['acc']:.2f}_{best_model['f1']:.2f}\"\n",
    "pickle.dump(best_model['model'], open(os.path.join(models_path, name), 'wb'))\n",
    "\n",
    "result = pd.DataFrame(ALL_MODELS)\n",
    "result"
   ]
  },
  {
   "cell_type": "code",
   "execution_count": 27,
   "metadata": {},
   "outputs": [
    {
     "name": "stdout",
     "output_type": "stream",
     "text": [
      "AUC Score : 0.725\n"
     ]
    },
    {
     "data": {
      "text/plain": [
       "<sklearn.metrics._plot.roc_curve.RocCurveDisplay at 0x168b7c939a0>"
      ]
     },
     "execution_count": 27,
     "metadata": {},
     "output_type": "execute_result"
    },
    {
     "data": {
      "image/png": "[encoded data removed]",
      "text/plain": [
       "<Figure size 432x288 with 1 Axes>"
      ]
     },
     "metadata": {
      "needs_background": "light"
     },
     "output_type": "display_data"
    }
   ],
   "source": [
    "y_pred = best_model['model'].predict(X_val)\n",
    "print(f\"AUC Score : {roc_auc_score(y_true=y_val, y_score=y_pred):.3f}\")\n",
    "RocCurveDisplay.from_predictions(y_true=y_val, y_pred=y_pred, name=\"ROC Curve\")"
   ]
  },
  {
   "cell_type": "markdown",
   "metadata": {},
   "source": [
    "## Random Forest"
   ]
  },
  {
   "cell_type": "code",
   "execution_count": 28,
   "metadata": {},
   "outputs": [
    {
     "name": "stdout",
     "output_type": "stream",
     "text": [
      "Best Model based on Mean Validation Accuracy : {'depth': 10, 'n_estimators': 500, 'acc': 0.8957204467543957, 'f1': 0.8977363003560574, 'model': RandomForestClassifier(max_depth=10, n_estimators=500)}\n",
      "Test Accuracy : 0.9092115448413137\n",
      "Test F1-Score : 0.8977363003560574\n"
     ]
    },
    {
     "ename": "KeyError",
     "evalue": "'n_esimator'",
     "output_type": "error",
     "traceback": [
      "\u001b[1;31m---------------------------------------------------------------------------\u001b[0m",
      "\u001b[1;31mKeyError\u001b[0m                                  Traceback (most recent call last)",
      "\u001b[1;32md:\\IIT JODHPUR\\Semester-3\\ML for Business\\Course Project\\bank_marketing.ipynb Cell 54\u001b[0m in \u001b[0;36m<cell line: 23>\u001b[1;34m()\u001b[0m\n\u001b[0;32m     <a href='vscode-notebook-cell:/d%3A/IIT%20JODHPUR/Semester-3/ML%20for%20Business/Course%20Project/bank_marketing.ipynb#Y100sZmlsZQ%3D%3D?line=19'>20</a>\u001b[0m y_pred \u001b[39m=\u001b[39m best_model[\u001b[39m'\u001b[39m\u001b[39mmodel\u001b[39m\u001b[39m'\u001b[39m]\u001b[39m.\u001b[39mpredict(X_val)\n\u001b[0;32m     <a href='vscode-notebook-cell:/d%3A/IIT%20JODHPUR/Semester-3/ML%20for%20Business/Course%20Project/bank_marketing.ipynb#Y100sZmlsZQ%3D%3D?line=20'>21</a>\u001b[0m \u001b[39mprint\u001b[39m(\u001b[39mf\u001b[39m\u001b[39m\"\u001b[39m\u001b[39mBest Model based on Mean Validation Accuracy : \u001b[39m\u001b[39m{\u001b[39;00mbest_model\u001b[39m}\u001b[39;00m\u001b[39m\\n\u001b[39;00m\u001b[39mTest Accuracy : \u001b[39m\u001b[39m{\u001b[39;00maccuracy_score(y_true\u001b[39m=\u001b[39my_val, y_pred\u001b[39m=\u001b[39my_pred)\u001b[39m}\u001b[39;00m\u001b[39m\\n\u001b[39;00m\u001b[39mTest F1-Score : \u001b[39m\u001b[39m{\u001b[39;00mf1_score(y_true\u001b[39m=\u001b[39my_val, y_pred\u001b[39m=\u001b[39my_pred, average\u001b[39m=\u001b[39m\u001b[39m'\u001b[39m\u001b[39mweighted\u001b[39m\u001b[39m'\u001b[39m)\u001b[39m}\u001b[39;00m\u001b[39m\"\u001b[39m)\n\u001b[1;32m---> <a href='vscode-notebook-cell:/d%3A/IIT%20JODHPUR/Semester-3/ML%20for%20Business/Course%20Project/bank_marketing.ipynb#Y100sZmlsZQ%3D%3D?line=22'>23</a>\u001b[0m name \u001b[39m=\u001b[39m \u001b[39mf\u001b[39m\u001b[39m\"\u001b[39m\u001b[39mrdf_\u001b[39m\u001b[39m{\u001b[39;00mbest_model[\u001b[39m'\u001b[39m\u001b[39mdepth\u001b[39m\u001b[39m'\u001b[39m]\u001b[39m}\u001b[39;00m\u001b[39m_\u001b[39m\u001b[39m{\u001b[39;00mbest_model[\u001b[39m'\u001b[39m\u001b[39mn_esimator\u001b[39m\u001b[39m'\u001b[39m]\u001b[39m}\u001b[39;00m\u001b[39m_\u001b[39m\u001b[39m{\u001b[39;00mbest_model[\u001b[39m'\u001b[39m\u001b[39macc\u001b[39m\u001b[39m'\u001b[39m]\u001b[39m:\u001b[39;00m\u001b[39m.2f\u001b[39m\u001b[39m}\u001b[39;00m\u001b[39m_\u001b[39m\u001b[39m{\u001b[39;00mbest_model[\u001b[39m'\u001b[39m\u001b[39mf1\u001b[39m\u001b[39m'\u001b[39m]\u001b[39m:\u001b[39;00m\u001b[39m.2f\u001b[39m\u001b[39m}\u001b[39;00m\u001b[39m\"\u001b[39m\n\u001b[0;32m     <a href='vscode-notebook-cell:/d%3A/IIT%20JODHPUR/Semester-3/ML%20for%20Business/Course%20Project/bank_marketing.ipynb#Y100sZmlsZQ%3D%3D?line=23'>24</a>\u001b[0m pickle\u001b[39m.\u001b[39mdump(best_model[\u001b[39m'\u001b[39m\u001b[39mmodel\u001b[39m\u001b[39m'\u001b[39m], \u001b[39mopen\u001b[39m(os\u001b[39m.\u001b[39mpath\u001b[39m.\u001b[39mjoin(models_path, name), \u001b[39m'\u001b[39m\u001b[39mwb\u001b[39m\u001b[39m'\u001b[39m))\n\u001b[0;32m     <a href='vscode-notebook-cell:/d%3A/IIT%20JODHPUR/Semester-3/ML%20for%20Business/Course%20Project/bank_marketing.ipynb#Y100sZmlsZQ%3D%3D?line=25'>26</a>\u001b[0m result \u001b[39m=\u001b[39m pd\u001b[39m.\u001b[39mDataFrame(ALL_MODELS)\n",
      "\u001b[1;31mKeyError\u001b[0m: 'n_esimator'"
     ]
    }
   ],
   "source": [
    "from sklearn.ensemble import RandomForestClassifier\n",
    "\n",
    "n_estimators = [i for i in range(100, 501, 50)]\n",
    "max_depth = [i for i in range(1, 11)]\n",
    "ALL_MODELS = []\n",
    "\n",
    "best_model = {'max_depth' : 0, 'n_estimator' : 0, 'model' : None, 'acc' : 0, 'f1' : 0}\n",
    "for depth in max_depth:\n",
    "    for estimator in n_estimators:\n",
    "        model = RandomForestClassifier(max_depth=depth, n_estimators=estimator)\n",
    "        scores = cross_val_score(model, X, y, cv=5)\n",
    "        model.fit(X_train, y_train)\n",
    "        y_pred = model.predict(X_val)\n",
    "        f1 = f1_score(y_true=y_val, y_pred=y_pred, average='weighted')\n",
    "        if f1 > best_model['f1']:\n",
    "            best_model = {'depth' : depth, 'n_estimators' : estimator, 'acc' : acc, 'f1' : f1, 'model' : copy.deepcopy(model)}\n",
    "            best_entry = pd.Series({'depth' : depth, 'n_estimator' : estimator, 'cv_score_fold1' : scores[0], 'cv_score_fold2' : scores[1], 'cv_score_fold3' : scores[2], 'cv_score_fold4' : scores[3], 'cv_score_fold5' : scores[4], 'mean' : scores.mean(), 'std' : scores.std(), 'accuracy' : acc, 'f1_score' : f1})\n",
    "    ALL_MODELS.append(best_entry)\n",
    "\n",
    "y_pred = best_model['model'].predict(X_val)\n",
    "print(f\"Best Model based on Mean Validation Accuracy : {best_model}\\nTest Accuracy : {accuracy_score(y_true=y_val, y_pred=y_pred)}\\nTest F1-Score : {f1_score(y_true=y_val, y_pred=y_pred, average='weighted')}\")\n",
    "\n",
    "name = f\"rdf_{best_model['depth']}_{best_model['n_estimator']}_{best_model['acc']:.2f}_{best_model['f1']:.2f}\"\n",
    "pickle.dump(best_model['model'], open(os.path.join(models_path, name), 'wb'))\n",
    "\n",
    "result = pd.DataFrame(ALL_MODELS)\n",
    "result"
   ]
  },
  {
   "cell_type": "code",
   "execution_count": 30,
   "metadata": {},
   "outputs": [
    {
     "data": {
      "text/html": [
       "<div>\n",
       "<style scoped>\n",
       "    .dataframe tbody tr th:only-of-type {\n",
       "        vertical-align: middle;\n",
       "    }\n",
       "\n",
       "    .dataframe tbody tr th {\n",
       "        vertical-align: top;\n",
       "    }\n",
       "\n",
       "    .dataframe thead th {\n",
       "        text-align: right;\n",
       "    }\n",
       "</style>\n",
       "<table border=\"1\" class=\"dataframe\">\n",
       "  <thead>\n",
       "    <tr style=\"text-align: right;\">\n",
       "      <th></th>\n",
       "      <th>depth</th>\n",
       "      <th>n_estimator</th>\n",
       "      <th>cv_score_fold1</th>\n",
       "      <th>cv_score_fold2</th>\n",
       "      <th>cv_score_fold3</th>\n",
       "      <th>cv_score_fold4</th>\n",
       "      <th>cv_score_fold5</th>\n",
       "      <th>mean</th>\n",
       "      <th>std</th>\n",
       "      <th>accuracy</th>\n",
       "      <th>f1_score</th>\n",
       "    </tr>\n",
       "  </thead>\n",
       "  <tbody>\n",
       "    <tr>\n",
       "      <th>0</th>\n",
       "      <td>1.0</td>\n",
       "      <td>100.0</td>\n",
       "      <td>0.883003</td>\n",
       "      <td>0.883101</td>\n",
       "      <td>0.882990</td>\n",
       "      <td>0.882990</td>\n",
       "      <td>0.883765</td>\n",
       "      <td>0.883170</td>\n",
       "      <td>0.000300</td>\n",
       "      <td>0.89572</td>\n",
       "      <td>0.833861</td>\n",
       "    </tr>\n",
       "    <tr>\n",
       "      <th>1</th>\n",
       "      <td>2.0</td>\n",
       "      <td>400.0</td>\n",
       "      <td>0.883003</td>\n",
       "      <td>0.883101</td>\n",
       "      <td>0.882990</td>\n",
       "      <td>0.884096</td>\n",
       "      <td>0.893055</td>\n",
       "      <td>0.885249</td>\n",
       "      <td>0.003925</td>\n",
       "      <td>0.89572</td>\n",
       "      <td>0.837013</td>\n",
       "    </tr>\n",
       "    <tr>\n",
       "      <th>2</th>\n",
       "      <td>3.0</td>\n",
       "      <td>500.0</td>\n",
       "      <td>0.883003</td>\n",
       "      <td>0.883322</td>\n",
       "      <td>0.884096</td>\n",
       "      <td>0.857222</td>\n",
       "      <td>0.878124</td>\n",
       "      <td>0.877154</td>\n",
       "      <td>0.010185</td>\n",
       "      <td>0.89572</td>\n",
       "      <td>0.861902</td>\n",
       "    </tr>\n",
       "    <tr>\n",
       "      <th>3</th>\n",
       "      <td>4.0</td>\n",
       "      <td>300.0</td>\n",
       "      <td>0.883003</td>\n",
       "      <td>0.883875</td>\n",
       "      <td>0.887746</td>\n",
       "      <td>0.759124</td>\n",
       "      <td>0.802588</td>\n",
       "      <td>0.843267</td>\n",
       "      <td>0.052804</td>\n",
       "      <td>0.89572</td>\n",
       "      <td>0.870560</td>\n",
       "    </tr>\n",
       "    <tr>\n",
       "      <th>4</th>\n",
       "      <td>5.0</td>\n",
       "      <td>150.0</td>\n",
       "      <td>0.883003</td>\n",
       "      <td>0.882216</td>\n",
       "      <td>0.872595</td>\n",
       "      <td>0.596771</td>\n",
       "      <td>0.730259</td>\n",
       "      <td>0.792969</td>\n",
       "      <td>0.113875</td>\n",
       "      <td>0.89572</td>\n",
       "      <td>0.871102</td>\n",
       "    </tr>\n",
       "    <tr>\n",
       "      <th>5</th>\n",
       "      <td>6.0</td>\n",
       "      <td>450.0</td>\n",
       "      <td>0.883003</td>\n",
       "      <td>0.867728</td>\n",
       "      <td>0.869498</td>\n",
       "      <td>0.535833</td>\n",
       "      <td>0.608494</td>\n",
       "      <td>0.752911</td>\n",
       "      <td>0.149452</td>\n",
       "      <td>0.89572</td>\n",
       "      <td>0.874399</td>\n",
       "    </tr>\n",
       "    <tr>\n",
       "      <th>6</th>\n",
       "      <td>7.0</td>\n",
       "      <td>350.0</td>\n",
       "      <td>0.883003</td>\n",
       "      <td>0.849259</td>\n",
       "      <td>0.864521</td>\n",
       "      <td>0.522230</td>\n",
       "      <td>0.570228</td>\n",
       "      <td>0.737848</td>\n",
       "      <td>0.157554</td>\n",
       "      <td>0.89572</td>\n",
       "      <td>0.882252</td>\n",
       "    </tr>\n",
       "    <tr>\n",
       "      <th>7</th>\n",
       "      <td>8.0</td>\n",
       "      <td>300.0</td>\n",
       "      <td>0.883003</td>\n",
       "      <td>0.839416</td>\n",
       "      <td>0.857885</td>\n",
       "      <td>0.515815</td>\n",
       "      <td>0.547113</td>\n",
       "      <td>0.728647</td>\n",
       "      <td>0.161895</td>\n",
       "      <td>0.89572</td>\n",
       "      <td>0.888941</td>\n",
       "    </tr>\n",
       "    <tr>\n",
       "      <th>8</th>\n",
       "      <td>9.0</td>\n",
       "      <td>200.0</td>\n",
       "      <td>0.883003</td>\n",
       "      <td>0.831232</td>\n",
       "      <td>0.850807</td>\n",
       "      <td>0.511060</td>\n",
       "      <td>0.454324</td>\n",
       "      <td>0.706085</td>\n",
       "      <td>0.184024</td>\n",
       "      <td>0.89572</td>\n",
       "      <td>0.894344</td>\n",
       "    </tr>\n",
       "    <tr>\n",
       "      <th>9</th>\n",
       "      <td>10.0</td>\n",
       "      <td>500.0</td>\n",
       "      <td>0.883003</td>\n",
       "      <td>0.828467</td>\n",
       "      <td>0.836209</td>\n",
       "      <td>0.511944</td>\n",
       "      <td>0.336319</td>\n",
       "      <td>0.679189</td>\n",
       "      <td>0.216338</td>\n",
       "      <td>0.89572</td>\n",
       "      <td>0.897736</td>\n",
       "    </tr>\n",
       "  </tbody>\n",
       "</table>\n",
       "</div>"
      ],
      "text/plain": [
       "   depth  n_estimator  cv_score_fold1  cv_score_fold2  cv_score_fold3  \\\n",
       "0    1.0        100.0        0.883003        0.883101        0.882990   \n",
       "1    2.0        400.0        0.883003        0.883101        0.882990   \n",
       "2    3.0        500.0        0.883003        0.883322        0.884096   \n",
       "3    4.0        300.0        0.883003        0.883875        0.887746   \n",
       "4    5.0        150.0        0.883003        0.882216        0.872595   \n",
       "5    6.0        450.0        0.883003        0.867728        0.869498   \n",
       "6    7.0        350.0        0.883003        0.849259        0.864521   \n",
       "7    8.0        300.0        0.883003        0.839416        0.857885   \n",
       "8    9.0        200.0        0.883003        0.831232        0.850807   \n",
       "9   10.0        500.0        0.883003        0.828467        0.836209   \n",
       "\n",
       "   cv_score_fold4  cv_score_fold5      mean       std  accuracy  f1_score  \n",
       "0        0.882990        0.883765  0.883170  0.000300   0.89572  0.833861  \n",
       "1        0.884096        0.893055  0.885249  0.003925   0.89572  0.837013  \n",
       "2        0.857222        0.878124  0.877154  0.010185   0.89572  0.861902  \n",
       "3        0.759124        0.802588  0.843267  0.052804   0.89572  0.870560  \n",
       "4        0.596771        0.730259  0.792969  0.113875   0.89572  0.871102  \n",
       "5        0.535833        0.608494  0.752911  0.149452   0.89572  0.874399  \n",
       "6        0.522230        0.570228  0.737848  0.157554   0.89572  0.882252  \n",
       "7        0.515815        0.547113  0.728647  0.161895   0.89572  0.888941  \n",
       "8        0.511060        0.454324  0.706085  0.184024   0.89572  0.894344  \n",
       "9        0.511944        0.336319  0.679189  0.216338   0.89572  0.897736  "
      ]
     },
     "execution_count": 30,
     "metadata": {},
     "output_type": "execute_result"
    }
   ],
   "source": [
    "name = f\"rdf_{best_model['depth']}_{best_model['n_estimators']}_{best_model['acc']:.2f}_{best_model['f1']:.2f}\"\n",
    "pickle.dump(best_model['model'], open(os.path.join(models_path, name), 'wb'))\n",
    "\n",
    "result = pd.DataFrame(ALL_MODELS)\n",
    "result"
   ]
  },
  {
   "cell_type": "code",
   "execution_count": null,
   "metadata": {},
   "outputs": [
    {
     "name": "stdout",
     "output_type": "stream",
     "text": [
      "AUC Score : 0.676\n"
     ]
    },
    {
     "data": {
      "text/plain": [
       "<sklearn.metrics._plot.roc_curve.RocCurveDisplay at 0x1ca49067a30>"
      ]
     },
     "execution_count": 60,
     "metadata": {},
     "output_type": "execute_result"
    },
    {
     "data": {
      "image/png": "[encoded data removed]",
      "text/plain": [
       "<Figure size 432x288 with 1 Axes>"
      ]
     },
     "metadata": {
      "needs_background": "light"
     },
     "output_type": "display_data"
    }
   ],
   "source": [
    "y_pred = best_model['model'].predict(X_val)\n",
    "print(f\"AUC Score : {roc_auc_score(y_true=y_val, y_score=y_pred):.3f}\")\n",
    "RocCurveDisplay.from_predictions(y_true=y_val, y_pred=y_pred, name=\"ROC Curve\")"
   ]
  },
  {
   "cell_type": "markdown",
   "metadata": {},
   "source": [
    "# Feature Importance"
   ]
  },
  {
   "cell_type": "code",
   "execution_count": 66,
   "metadata": {},
   "outputs": [
    {
     "data": {
      "text/html": [
       "<div>\n",
       "<style scoped>\n",
       "    .dataframe tbody tr th:only-of-type {\n",
       "        vertical-align: middle;\n",
       "    }\n",
       "\n",
       "    .dataframe tbody tr th {\n",
       "        vertical-align: top;\n",
       "    }\n",
       "\n",
       "    .dataframe thead th {\n",
       "        text-align: right;\n",
       "    }\n",
       "</style>\n",
       "<table border=\"1\" class=\"dataframe\">\n",
       "  <thead>\n",
       "    <tr style=\"text-align: right;\">\n",
       "      <th></th>\n",
       "      <th>0</th>\n",
       "      <th>1</th>\n",
       "      <th>2</th>\n",
       "      <th>3</th>\n",
       "      <th>4</th>\n",
       "      <th>5</th>\n",
       "      <th>6</th>\n",
       "      <th>7</th>\n",
       "      <th>8</th>\n",
       "      <th>9</th>\n",
       "      <th>10</th>\n",
       "      <th>11</th>\n",
       "      <th>12</th>\n",
       "      <th>13</th>\n",
       "      <th>14</th>\n",
       "      <th>15</th>\n",
       "    </tr>\n",
       "  </thead>\n",
       "  <tbody>\n",
       "    <tr>\n",
       "      <th>0</th>\n",
       "      <td>0.382703</td>\n",
       "      <td>-0.169813</td>\n",
       "      <td>-0.740666</td>\n",
       "      <td>2.012493</td>\n",
       "      <td>-0.13549</td>\n",
       "      <td>-0.235906</td>\n",
       "      <td>-0.893915</td>\n",
       "      <td>-0.436803</td>\n",
       "      <td>2.225971</td>\n",
       "      <td>-0.958642</td>\n",
       "      <td>-0.924841</td>\n",
       "      <td>0.636198</td>\n",
       "      <td>-0.246560</td>\n",
       "      <td>-0.411453</td>\n",
       "      <td>-0.251940</td>\n",
       "      <td>-0.415287</td>\n",
       "    </tr>\n",
       "    <tr>\n",
       "      <th>1</th>\n",
       "      <td>-0.559037</td>\n",
       "      <td>-0.169813</td>\n",
       "      <td>-0.740666</td>\n",
       "      <td>-0.051543</td>\n",
       "      <td>-0.13549</td>\n",
       "      <td>-0.299623</td>\n",
       "      <td>1.118674</td>\n",
       "      <td>-0.436803</td>\n",
       "      <td>0.406931</td>\n",
       "      <td>-0.239953</td>\n",
       "      <td>0.647631</td>\n",
       "      <td>-0.633582</td>\n",
       "      <td>-0.246560</td>\n",
       "      <td>-0.411453</td>\n",
       "      <td>-0.251940</td>\n",
       "      <td>-0.415287</td>\n",
       "    </tr>\n",
       "    <tr>\n",
       "      <th>2</th>\n",
       "      <td>-0.464863</td>\n",
       "      <td>0.152944</td>\n",
       "      <td>-0.740666</td>\n",
       "      <td>2.012493</td>\n",
       "      <td>-0.13549</td>\n",
       "      <td>-0.447419</td>\n",
       "      <td>1.118674</td>\n",
       "      <td>-0.436803</td>\n",
       "      <td>0.406931</td>\n",
       "      <td>-0.120171</td>\n",
       "      <td>0.018642</td>\n",
       "      <td>-0.078296</td>\n",
       "      <td>-0.246560</td>\n",
       "      <td>-0.411453</td>\n",
       "      <td>-0.251940</td>\n",
       "      <td>-0.415287</td>\n",
       "    </tr>\n",
       "    <tr>\n",
       "      <th>3</th>\n",
       "      <td>1.795313</td>\n",
       "      <td>1.121214</td>\n",
       "      <td>-0.740666</td>\n",
       "      <td>-1.083560</td>\n",
       "      <td>-0.13549</td>\n",
       "      <td>0.950405</td>\n",
       "      <td>-0.893915</td>\n",
       "      <td>-0.436803</td>\n",
       "      <td>0.406931</td>\n",
       "      <td>-0.479516</td>\n",
       "      <td>0.018642</td>\n",
       "      <td>-0.074413</td>\n",
       "      <td>0.076230</td>\n",
       "      <td>7.198833</td>\n",
       "      <td>0.182198</td>\n",
       "      <td>2.448149</td>\n",
       "    </tr>\n",
       "    <tr>\n",
       "      <th>4</th>\n",
       "      <td>0.665225</td>\n",
       "      <td>-0.815326</td>\n",
       "      <td>-0.740666</td>\n",
       "      <td>-0.051543</td>\n",
       "      <td>-0.13549</td>\n",
       "      <td>-0.447419</td>\n",
       "      <td>-0.893915</td>\n",
       "      <td>-0.436803</td>\n",
       "      <td>0.406931</td>\n",
       "      <td>-0.120171</td>\n",
       "      <td>-0.295852</td>\n",
       "      <td>-0.567569</td>\n",
       "      <td>-0.569351</td>\n",
       "      <td>-0.411453</td>\n",
       "      <td>-0.251940</td>\n",
       "      <td>-0.415287</td>\n",
       "    </tr>\n",
       "  </tbody>\n",
       "</table>\n",
       "</div>"
      ],
      "text/plain": [
       "          0         1         2         3        4         5         6  \\\n",
       "0  0.382703 -0.169813 -0.740666  2.012493 -0.13549 -0.235906 -0.893915   \n",
       "1 -0.559037 -0.169813 -0.740666 -0.051543 -0.13549 -0.299623  1.118674   \n",
       "2 -0.464863  0.152944 -0.740666  2.012493 -0.13549 -0.447419  1.118674   \n",
       "3  1.795313  1.121214 -0.740666 -1.083560 -0.13549  0.950405 -0.893915   \n",
       "4  0.665225 -0.815326 -0.740666 -0.051543 -0.13549 -0.447419 -0.893915   \n",
       "\n",
       "          7         8         9        10        11        12        13  \\\n",
       "0 -0.436803  2.225971 -0.958642 -0.924841  0.636198 -0.246560 -0.411453   \n",
       "1 -0.436803  0.406931 -0.239953  0.647631 -0.633582 -0.246560 -0.411453   \n",
       "2 -0.436803  0.406931 -0.120171  0.018642 -0.078296 -0.246560 -0.411453   \n",
       "3 -0.436803  0.406931 -0.479516  0.018642 -0.074413  0.076230  7.198833   \n",
       "4 -0.436803  0.406931 -0.120171 -0.295852 -0.567569 -0.569351 -0.411453   \n",
       "\n",
       "         14        15  \n",
       "0 -0.251940 -0.415287  \n",
       "1 -0.251940 -0.415287  \n",
       "2 -0.251940 -0.415287  \n",
       "3  0.182198  2.448149  \n",
       "4 -0.251940 -0.415287  "
      ]
     },
     "execution_count": 66,
     "metadata": {},
     "output_type": "execute_result"
    }
   ],
   "source": [
    "import os, pickle\n",
    "import numpy as np\n",
    "import pandas as pd\n",
    "from matplotlib import pyplot as plt\n",
    "from collections import defaultdict\n",
    "from sklearn.preprocessing import StandardScaler\n",
    "from sklearn.model_selection import train_test_split\n",
    "from sklearn.inspection import permutation_importance\n",
    "\n",
    "models_path = 'D:\\IIT JODHPUR\\Semester-3\\ML for Business\\Course Project\\\\best_models'\n",
    "all_models = os.listdir(models_path)\n",
    "\n",
    "df = pd.read_csv('Val_Standardized.csv')\n",
    "y = df['y']\n",
    "X = df.drop('y', axis=1)\n",
    "X = X.drop('Unnamed: 0', axis=1)\n",
    "X.head()"
   ]
  },
  {
   "cell_type": "code",
   "execution_count": 67,
   "metadata": {},
   "outputs": [],
   "source": [
    "X = np.array(X)\n",
    "y = np.array(y)"
   ]
  },
  {
   "cell_type": "code",
   "execution_count": 68,
   "metadata": {},
   "outputs": [
    {
     "data": {
      "text/plain": [
       "(16,)"
      ]
     },
     "execution_count": 68,
     "metadata": {},
     "output_type": "execute_result"
    }
   ],
   "source": [
    "X[0].shape"
   ]
  },
  {
   "cell_type": "code",
   "execution_count": 69,
   "metadata": {},
   "outputs": [],
   "source": [
    "model_r = {}\n",
    "for m in all_models:\n",
    "    model = pickle.load(open(os.path.join(models_path, m), 'rb'))\n",
    "    r = permutation_importance(model, X, y, n_repeats=5)\n",
    "    model_r[m] = r"
   ]
  },
  {
   "cell_type": "code",
   "execution_count": 78,
   "metadata": {},
   "outputs": [],
   "source": [
    "columns = columns = ['age', 'job', 'marital', 'education', 'default', 'balance', 'housing',\n",
    "       'loan', 'contact', 'day', 'month', 'duration', 'campaign', 'pdays',\n",
    "       'previous', 'poutcome']"
   ]
  },
  {
   "cell_type": "code",
   "execution_count": 79,
   "metadata": {},
   "outputs": [
    {
     "data": {
      "image/png": "[encoded data removed]",
      "text/plain": [
       "<Figure size 432x288 with 1 Axes>"
      ]
     },
     "metadata": {
      "needs_background": "light"
     },
     "output_type": "display_data"
    }
   ],
   "source": [
    "algo = \"dtree_8_0.90_0.90\"\n",
    "importance = model_r[algo]\n",
    "\n",
    "plt.barh(range(len(importance['importances_mean'])), importance['importances_mean'], xerr=importance['importances_std'])\n",
    "plt.yticks(range(len(importance['importances_mean'])), columns)\n",
    "plt.ylabel('Features')\n",
    "plt.xlabel('Mean Importance +/- Mean SD')\n",
    "plt.title('Feature Improtance from Decision Tree')\n",
    "plt.show()"
   ]
  },
  {
   "cell_type": "code",
   "execution_count": 80,
   "metadata": {},
   "outputs": [
    {
     "data": {
      "image/png": "[encoded data removed]",
      "text/plain": [
       "<Figure size 432x288 with 1 Axes>"
      ]
     },
     "metadata": {
      "needs_background": "light"
     },
     "output_type": "display_data"
    }
   ],
   "source": [
    "algo = \"rdf_10_500_0.90_0.90\"\n",
    "importance = model_r[algo]\n",
    "\n",
    "plt.barh(range(len(importance['importances_mean'])), importance['importances_mean'], xerr=importance['importances_std'])\n",
    "plt.yticks(range(len(importance['importances_mean'])), columns)\n",
    "plt.ylabel('Features')\n",
    "plt.xlabel('Mean Importance +/- Mean SD')\n",
    "plt.title('Feature Improtance from Random Forest')\n",
    "plt.show()"
   ]
  },
  {
   "cell_type": "code",
   "execution_count": 81,
   "metadata": {},
   "outputs": [
    {
     "data": {
      "image/png": "[encoded data removed]",
      "text/plain": [
       "<Figure size 432x288 with 1 Axes>"
      ]
     },
     "metadata": {
      "needs_background": "light"
     },
     "output_type": "display_data"
    }
   ],
   "source": [
    "algo = \"svm_linear_10_0.86_0.87\"\n",
    "importance = model_r[algo]\n",
    "\n",
    "plt.barh(range(len(importance['importances_mean'])), importance['importances_mean'], xerr=importance['importances_std'])\n",
    "plt.yticks(range(len(importance['importances_mean'])), columns)\n",
    "plt.ylabel('Features')\n",
    "plt.xlabel('Mean Importance +/- Mean SD')\n",
    "plt.title('Feature Improtance from Linear SVM')\n",
    "plt.show()"
   ]
  },
  {
   "cell_type": "code",
   "execution_count": 82,
   "metadata": {},
   "outputs": [
    {
     "data": {
      "image/png": "[encoded data removed]",
      "text/plain": [
       "<Figure size 432x288 with 1 Axes>"
      ]
     },
     "metadata": {
      "needs_background": "light"
     },
     "output_type": "display_data"
    }
   ],
   "source": [
    "algo = \"svm_poly_0.001_0.90_0.89\"\n",
    "importance = model_r[algo]\n",
    "\n",
    "plt.barh(range(len(importance['importances_mean'])), importance['importances_mean'], xerr=importance['importances_std'])\n",
    "plt.yticks(range(len(importance['importances_mean'])), columns)\n",
    "plt.ylabel('Features')\n",
    "plt.xlabel('Mean Importance +/- Mean SD')\n",
    "plt.title('Feature Improtance from SVM Polynomial Kernel')\n",
    "plt.show()"
   ]
  },
  {
   "cell_type": "code",
   "execution_count": 83,
   "metadata": {},
   "outputs": [
    {
     "data": {
      "image/png": "[encoded data removed]",
      "text/plain": [
       "<Figure size 432x288 with 1 Axes>"
      ]
     },
     "metadata": {
      "needs_background": "light"
     },
     "output_type": "display_data"
    }
   ],
   "source": [
    "algo = \"svm_rbf_10_0.84_0.86\"\n",
    "importance = model_r[algo]\n",
    "\n",
    "plt.barh(range(len(importance['importances_mean'])), importance['importances_mean'], xerr=importance['importances_std'])\n",
    "plt.yticks(range(len(importance['importances_mean'])), columns)\n",
    "plt.ylabel('Features')\n",
    "plt.xlabel('Mean Importance +/- Mean SD')\n",
    "plt.title('Feature Improtance from SVM RBF Kernel')\n",
    "plt.show()"
   ]
  },
  {
   "cell_type": "code",
   "execution_count": 84,
   "metadata": {},
   "outputs": [
    {
     "data": {
      "image/png": "[encoded data removed]",
      "text/plain": [
       "<Figure size 432x288 with 1 Axes>"
      ]
     },
     "metadata": {
      "needs_background": "light"
     },
     "output_type": "display_data"
    }
   ],
   "source": [
    "algo = \"logreg_0.001_0.83_0.85\"\n",
    "importance = model_r[algo]\n",
    "\n",
    "plt.barh(range(len(importance['importances_mean'])), importance['importances_mean'], xerr=importance['importances_std'])\n",
    "plt.yticks(range(len(importance['importances_mean'])), columns)\n",
    "plt.ylabel('Features')\n",
    "plt.xlabel('Mean Importance +/- Mean SD')\n",
    "plt.title('Feature Improtance from Logistic Regression')\n",
    "plt.show()"
   ]
  },
  {
   "cell_type": "code",
   "execution_count": 86,
   "metadata": {},
   "outputs": [
    {
     "data": {
      "text/html": [
       "<div>\n",
       "<style scoped>\n",
       "    .dataframe tbody tr th:only-of-type {\n",
       "        vertical-align: middle;\n",
       "    }\n",
       "\n",
       "    .dataframe tbody tr th {\n",
       "        vertical-align: top;\n",
       "    }\n",
       "\n",
       "    .dataframe thead th {\n",
       "        text-align: right;\n",
       "    }\n",
       "</style>\n",
       "<table border=\"1\" class=\"dataframe\">\n",
       "  <thead>\n",
       "    <tr style=\"text-align: right;\">\n",
       "      <th></th>\n",
       "      <th>svm_poly</th>\n",
       "      <th>svm_rbf</th>\n",
       "      <th>linsvm</th>\n",
       "      <th>Dtree</th>\n",
       "      <th>RDF</th>\n",
       "      <th>LogReg</th>\n",
       "    </tr>\n",
       "  </thead>\n",
       "  <tbody>\n",
       "    <tr>\n",
       "      <th>0</th>\n",
       "      <td>-0.0013 +/- 0.0005</td>\n",
       "      <td>0.0014 +/- 0.0014</td>\n",
       "      <td>-0.0010 +/- 0.0002</td>\n",
       "      <td>0.0048 +/- 0.0004</td>\n",
       "      <td>0.0018 +/- 0.0007</td>\n",
       "      <td>0.0000 +/- 0.0002</td>\n",
       "    </tr>\n",
       "    <tr>\n",
       "      <th>1</th>\n",
       "      <td>0.0000 +/- 0.0005</td>\n",
       "      <td>0.0030 +/- 0.0018</td>\n",
       "      <td>0.0003 +/- 0.0005</td>\n",
       "      <td>0.0000 +/- 0.0002</td>\n",
       "      <td>0.0008 +/- 0.0005</td>\n",
       "      <td>0.0017 +/- 0.0011</td>\n",
       "    </tr>\n",
       "    <tr>\n",
       "      <th>2</th>\n",
       "      <td>0.0003 +/- 0.0005</td>\n",
       "      <td>-0.0011 +/- 0.0006</td>\n",
       "      <td>-0.0016 +/- 0.0017</td>\n",
       "      <td>-0.0005 +/- 0.0004</td>\n",
       "      <td>0.0020 +/- 0.0005</td>\n",
       "      <td>-0.0001 +/- 0.0009</td>\n",
       "    </tr>\n",
       "    <tr>\n",
       "      <th>3</th>\n",
       "      <td>-0.0000 +/- 0.0003</td>\n",
       "      <td>0.0002 +/- 0.0010</td>\n",
       "      <td>-0.0014 +/- 0.0013</td>\n",
       "      <td>-0.0003 +/- 0.0001</td>\n",
       "      <td>0.0010 +/- 0.0003</td>\n",
       "      <td>0.0007 +/- 0.0015</td>\n",
       "    </tr>\n",
       "    <tr>\n",
       "      <th>4</th>\n",
       "      <td>0.0000 +/- 0.0004</td>\n",
       "      <td>0.0001 +/- 0.0006</td>\n",
       "      <td>-0.0008 +/- 0.0005</td>\n",
       "      <td>0.0000 +/- 0.0000</td>\n",
       "      <td>0.0000 +/- 0.0001</td>\n",
       "      <td>0.0001 +/- 0.0003</td>\n",
       "    </tr>\n",
       "    <tr>\n",
       "      <th>5</th>\n",
       "      <td>0.0001 +/- 0.0003</td>\n",
       "      <td>0.0013 +/- 0.0012</td>\n",
       "      <td>-0.0015 +/- 0.0003</td>\n",
       "      <td>-0.0006 +/- 0.0009</td>\n",
       "      <td>0.0005 +/- 0.0007</td>\n",
       "      <td>-0.0010 +/- 0.0004</td>\n",
       "    </tr>\n",
       "    <tr>\n",
       "      <th>6</th>\n",
       "      <td>0.0031 +/- 0.0005</td>\n",
       "      <td>0.0106 +/- 0.0012</td>\n",
       "      <td>0.0062 +/- 0.0011</td>\n",
       "      <td>0.0061 +/- 0.0007</td>\n",
       "      <td>0.0022 +/- 0.0006</td>\n",
       "      <td>0.0080 +/- 0.0010</td>\n",
       "    </tr>\n",
       "    <tr>\n",
       "      <th>7</th>\n",
       "      <td>0.0004 +/- 0.0003</td>\n",
       "      <td>0.0012 +/- 0.0006</td>\n",
       "      <td>0.0001 +/- 0.0008</td>\n",
       "      <td>0.0002 +/- 0.0001</td>\n",
       "      <td>0.0005 +/- 0.0006</td>\n",
       "      <td>0.0006 +/- 0.0011</td>\n",
       "    </tr>\n",
       "    <tr>\n",
       "      <th>8</th>\n",
       "      <td>-0.0013 +/- 0.0006</td>\n",
       "      <td>0.0468 +/- 0.0036</td>\n",
       "      <td>-0.0015 +/- 0.0013</td>\n",
       "      <td>0.0178 +/- 0.0008</td>\n",
       "      <td>0.0044 +/- 0.0006</td>\n",
       "      <td>-0.0049 +/- 0.0013</td>\n",
       "    </tr>\n",
       "    <tr>\n",
       "      <th>9</th>\n",
       "      <td>0.0001 +/- 0.0003</td>\n",
       "      <td>0.0037 +/- 0.0010</td>\n",
       "      <td>-0.0008 +/- 0.0003</td>\n",
       "      <td>0.0004 +/- 0.0005</td>\n",
       "      <td>0.0006 +/- 0.0008</td>\n",
       "      <td>0.0006 +/- 0.0005</td>\n",
       "    </tr>\n",
       "    <tr>\n",
       "      <th>10</th>\n",
       "      <td>-0.0004 +/- 0.0006</td>\n",
       "      <td>0.0939 +/- 0.0026</td>\n",
       "      <td>-0.0015 +/- 0.0012</td>\n",
       "      <td>0.0409 +/- 0.0015</td>\n",
       "      <td>0.0048 +/- 0.0009</td>\n",
       "      <td>-0.0071 +/- 0.0018</td>\n",
       "    </tr>\n",
       "    <tr>\n",
       "      <th>11</th>\n",
       "      <td>0.0224 +/- 0.0010</td>\n",
       "      <td>0.0644 +/- 0.0006</td>\n",
       "      <td>0.0664 +/- 0.0015</td>\n",
       "      <td>0.0449 +/- 0.0011</td>\n",
       "      <td>0.0353 +/- 0.0018</td>\n",
       "      <td>0.0676 +/- 0.0031</td>\n",
       "    </tr>\n",
       "    <tr>\n",
       "      <th>12</th>\n",
       "      <td>0.0003 +/- 0.0004</td>\n",
       "      <td>0.0024 +/- 0.0017</td>\n",
       "      <td>-0.0008 +/- 0.0010</td>\n",
       "      <td>-0.0003 +/- 0.0004</td>\n",
       "      <td>0.0004 +/- 0.0005</td>\n",
       "      <td>-0.0002 +/- 0.0014</td>\n",
       "    </tr>\n",
       "    <tr>\n",
       "      <th>13</th>\n",
       "      <td>-0.0019 +/- 0.0002</td>\n",
       "      <td>0.0213 +/- 0.0018</td>\n",
       "      <td>0.0073 +/- 0.0007</td>\n",
       "      <td>0.0090 +/- 0.0004</td>\n",
       "      <td>0.0061 +/- 0.0006</td>\n",
       "      <td>0.0038 +/- 0.0002</td>\n",
       "    </tr>\n",
       "    <tr>\n",
       "      <th>14</th>\n",
       "      <td>-0.0017 +/- 0.0002</td>\n",
       "      <td>0.0126 +/- 0.0012</td>\n",
       "      <td>0.0002 +/- 0.0006</td>\n",
       "      <td>0.0045 +/- 0.0004</td>\n",
       "      <td>0.0026 +/- 0.0003</td>\n",
       "      <td>-0.0005 +/- 0.0002</td>\n",
       "    </tr>\n",
       "    <tr>\n",
       "      <th>15</th>\n",
       "      <td>0.0184 +/- 0.0015</td>\n",
       "      <td>0.0140 +/- 0.0020</td>\n",
       "      <td>0.0279 +/- 0.0011</td>\n",
       "      <td>0.0163 +/- 0.0007</td>\n",
       "      <td>0.0123 +/- 0.0004</td>\n",
       "      <td>0.0140 +/- 0.0010</td>\n",
       "    </tr>\n",
       "  </tbody>\n",
       "</table>\n",
       "</div>"
      ],
      "text/plain": [
       "              svm_poly             svm_rbf              linsvm  \\\n",
       "0   -0.0013 +/- 0.0005   0.0014 +/- 0.0014  -0.0010 +/- 0.0002   \n",
       "1    0.0000 +/- 0.0005   0.0030 +/- 0.0018   0.0003 +/- 0.0005   \n",
       "2    0.0003 +/- 0.0005  -0.0011 +/- 0.0006  -0.0016 +/- 0.0017   \n",
       "3   -0.0000 +/- 0.0003   0.0002 +/- 0.0010  -0.0014 +/- 0.0013   \n",
       "4    0.0000 +/- 0.0004   0.0001 +/- 0.0006  -0.0008 +/- 0.0005   \n",
       "5    0.0001 +/- 0.0003   0.0013 +/- 0.0012  -0.0015 +/- 0.0003   \n",
       "6    0.0031 +/- 0.0005   0.0106 +/- 0.0012   0.0062 +/- 0.0011   \n",
       "7    0.0004 +/- 0.0003   0.0012 +/- 0.0006   0.0001 +/- 0.0008   \n",
       "8   -0.0013 +/- 0.0006   0.0468 +/- 0.0036  -0.0015 +/- 0.0013   \n",
       "9    0.0001 +/- 0.0003   0.0037 +/- 0.0010  -0.0008 +/- 0.0003   \n",
       "10  -0.0004 +/- 0.0006   0.0939 +/- 0.0026  -0.0015 +/- 0.0012   \n",
       "11   0.0224 +/- 0.0010   0.0644 +/- 0.0006   0.0664 +/- 0.0015   \n",
       "12   0.0003 +/- 0.0004   0.0024 +/- 0.0017  -0.0008 +/- 0.0010   \n",
       "13  -0.0019 +/- 0.0002   0.0213 +/- 0.0018   0.0073 +/- 0.0007   \n",
       "14  -0.0017 +/- 0.0002   0.0126 +/- 0.0012   0.0002 +/- 0.0006   \n",
       "15   0.0184 +/- 0.0015   0.0140 +/- 0.0020   0.0279 +/- 0.0011   \n",
       "\n",
       "                 Dtree                RDF              LogReg  \n",
       "0    0.0048 +/- 0.0004  0.0018 +/- 0.0007   0.0000 +/- 0.0002  \n",
       "1    0.0000 +/- 0.0002  0.0008 +/- 0.0005   0.0017 +/- 0.0011  \n",
       "2   -0.0005 +/- 0.0004  0.0020 +/- 0.0005  -0.0001 +/- 0.0009  \n",
       "3   -0.0003 +/- 0.0001  0.0010 +/- 0.0003   0.0007 +/- 0.0015  \n",
       "4    0.0000 +/- 0.0000  0.0000 +/- 0.0001   0.0001 +/- 0.0003  \n",
       "5   -0.0006 +/- 0.0009  0.0005 +/- 0.0007  -0.0010 +/- 0.0004  \n",
       "6    0.0061 +/- 0.0007  0.0022 +/- 0.0006   0.0080 +/- 0.0010  \n",
       "7    0.0002 +/- 0.0001  0.0005 +/- 0.0006   0.0006 +/- 0.0011  \n",
       "8    0.0178 +/- 0.0008  0.0044 +/- 0.0006  -0.0049 +/- 0.0013  \n",
       "9    0.0004 +/- 0.0005  0.0006 +/- 0.0008   0.0006 +/- 0.0005  \n",
       "10   0.0409 +/- 0.0015  0.0048 +/- 0.0009  -0.0071 +/- 0.0018  \n",
       "11   0.0449 +/- 0.0011  0.0353 +/- 0.0018   0.0676 +/- 0.0031  \n",
       "12  -0.0003 +/- 0.0004  0.0004 +/- 0.0005  -0.0002 +/- 0.0014  \n",
       "13   0.0090 +/- 0.0004  0.0061 +/- 0.0006   0.0038 +/- 0.0002  \n",
       "14   0.0045 +/- 0.0004  0.0026 +/- 0.0003  -0.0005 +/- 0.0002  \n",
       "15   0.0163 +/- 0.0007  0.0123 +/- 0.0004   0.0140 +/- 0.0010  "
      ]
     },
     "execution_count": 86,
     "metadata": {},
     "output_type": "execute_result"
    }
   ],
   "source": [
    "importance_matrix = []\n",
    "for f in range(16):\n",
    "    data = pd.Series({'svm_poly' : f\"{model_r['svm_poly_0.001_0.90_0.89']['importances_mean'][f]:.4f} +/- {model_r['svm_poly_0.001_0.90_0.89']['importances_std'][f]:.4f}\",\n",
    "                    'svm_rbf' : f\"{model_r['svm_rbf_10_0.84_0.86']['importances_mean'][f]:.4f} +/- {model_r['svm_rbf_10_0.84_0.86']['importances_std'][f]:.4f}\",\n",
    "                    'linsvm' : f\"{model_r['svm_linear_10_0.86_0.87']['importances_mean'][f]:.4f} +/- {model_r['svm_linear_10_0.86_0.87']['importances_std'][f]:.4f}\",\n",
    "                    'Dtree' : f\"{model_r['dtree_8_0.90_0.90']['importances_mean'][f]:.4f} +/- {model_r['dtree_8_0.90_0.90']['importances_std'][f]:.4f}\",\n",
    "                    'RDF' : f\"{model_r['rdf_10_500_0.90_0.90']['importances_mean'][f]:.4f} +/- {model_r['rdf_10_500_0.90_0.90']['importances_std'][f]:.4f}\",\n",
    "                    'LogReg' : f\"{model_r['logreg_0.001_0.83_0.85']['importances_mean'][f]:.4f} +/- {model_r['logreg_0.001_0.83_0.85']['importances_std'][f]:.4f}\"})\n",
    "    importance_matrix.append(data)\n",
    "\n",
    "result = pd.DataFrame(importance_matrix)\n",
    "result"
   ]
  }
 ],
 "metadata": {
  "kernelspec": {
   "display_name": "Python 3.10.4 64-bit",
   "language": "python",
   "name": "python3"
  },
  "language_info": {
   "codemirror_mode": {
    "name": "ipython",
    "version": 3
   },
   "file_extension": ".py",
   "mimetype": "text/x-python",
   "name": "python",
   "nbconvert_exporter": "python",
   "pygments_lexer": "ipython3",
   "version": "3.10.4"
  },
  "orig_nbformat": 4,
  "vscode": {
   "interpreter": {
    "hash": "8af0c7b516e23976b6ef6c4f3f67ca7449b209a47950dd9299e28344133359b8"
   }
  }
 },
 "nbformat": 4,
 "nbformat_minor": 2
}
